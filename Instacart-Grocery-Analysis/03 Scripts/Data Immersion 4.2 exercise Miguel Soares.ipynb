{
 "cells": [
  {
   "cell_type": "markdown",
   "id": "d0bc5ca2-a898-490e-be14-fcf2749cd04f",
   "metadata": {},
   "source": [
    "# 4.2  Exercise"
   ]
  },
  {
   "cell_type": "code",
   "execution_count": 2,
   "id": "95b8aa1d-b618-4379-8e91-78b2473ee4fa",
   "metadata": {},
   "outputs": [],
   "source": [
    "# import labriries\n",
    "import pandas as pd\n",
    "import numpy as np\n",
    "import os"
   ]
  },
  {
   "cell_type": "markdown",
   "id": "fadeb7d5-f700-4fee-935b-f3b8331fb86d",
   "metadata": {},
   "source": [
    "# PYTHON DATA TYPES"
   ]
  },
  {
   "cell_type": "code",
   "execution_count": 14,
   "id": "274a591a-57e6-4ffa-a8b9-e70d8b0bbfc2",
   "metadata": {},
   "outputs": [],
   "source": [
    "# Code 3 different ways of reaching a result of 100 by adding or subtracting numeric variables.\n",
    "X = 50 + 50\n",
    "Z = 200 - 100\n",
    "OP = 55\n",
    "AP = 45 "
   ]
  },
  {
   "cell_type": "code",
   "execution_count": 8,
   "id": "f4d2e826-1b91-4ddf-9bdf-fcdcd6777a58",
   "metadata": {},
   "outputs": [
    {
     "name": "stdout",
     "output_type": "stream",
     "text": [
      "100\n"
     ]
    }
   ],
   "source": [
    "T = 55 + 45\n",
    "print(T)"
   ]
  },
  {
   "cell_type": "code",
   "execution_count": 18,
   "id": "f96f0d69-94d8-4a76-a65e-4bdbcedccb04",
   "metadata": {
    "scrolled": true
   },
   "outputs": [
    {
     "name": "stdout",
     "output_type": "stream",
     "text": [
      "Variable x = 100 Variable z =  100\n"
     ]
    }
   ],
   "source": [
    "print('Variable x =',X,'Variable z = ',Z)"
   ]
  },
  {
   "cell_type": "code",
   "execution_count": 26,
   "id": "1e3b71cb-8ffe-4eb8-bdcf-ca8ab420eee9",
   "metadata": {},
   "outputs": [],
   "source": [
    "#Code 2 floating-point variables and divide them by each other.\n",
    "m = 10.5 / 5.5\n",
    "n = 12.12 / 9.45"
   ]
  },
  {
   "cell_type": "code",
   "execution_count": 34,
   "id": "c2752784-6f4e-4aa3-96bf-3622b762986d",
   "metadata": {},
   "outputs": [
    {
     "name": "stdout",
     "output_type": "stream",
     "text": [
      "1.9090909090909092\n",
      "1.2825396825396826\n"
     ]
    }
   ],
   "source": [
    "print(m)\n",
    "print(n)"
   ]
  },
  {
   "cell_type": "code",
   "execution_count": 42,
   "id": "2033db6a-7187-49fc-9158-936280e897f7",
   "metadata": {},
   "outputs": [],
   "source": [
    "# Construct 2 short sentences made of separate strings.\n",
    "Hello = 'Hello,'\n",
    "world = 'world'"
   ]
  },
  {
   "cell_type": "code",
   "execution_count": 40,
   "id": "d6e2a08e-7dcb-4ba5-bac9-b0b869cb0734",
   "metadata": {},
   "outputs": [
    {
     "name": "stdout",
     "output_type": "stream",
     "text": [
      "Hello,world\n"
     ]
    }
   ],
   "source": [
    "print(Hello + world)"
   ]
  },
  {
   "cell_type": "code",
   "execution_count": 46,
   "id": "11320c53-c6c3-40cd-bd26-5bad03147d8d",
   "metadata": {},
   "outputs": [
    {
     "name": "stdout",
     "output_type": "stream",
     "text": [
      "HAHAHAHAHAHAHAHAHAHAHAHAHAHAHAHAHAHAHAHAHAHAHAHAHAHAHAHAHAHAHAHAHAHAHAHAHAHAHAHAHAHAHAHAHAHAHAHAHAHAHAHAHAHAHAHAHAHAHAHAHAHAHAHAHAHAHAHAHAHAHAHAHAHAHAHAHAHAHAHAHAHAHAHAHAHAHAHAHAHAHAHAHAHAHAHAHAHAHAHA\n"
     ]
    }
   ],
   "source": [
    "# Bonus task\n",
    "m = 'HA'\n",
    "print(m * 100)"
   ]
  }
 ],
 "metadata": {
  "kernelspec": {
   "display_name": "Python 3 (ipykernel)",
   "language": "python",
   "name": "python3"
  },
  "language_info": {
   "codemirror_mode": {
    "name": "ipython",
    "version": 3
   },
   "file_extension": ".py",
   "mimetype": "text/x-python",
   "name": "python",
   "nbconvert_exporter": "python",
   "pygments_lexer": "ipython3",
   "version": "3.11.5"
  }
 },
 "nbformat": 4,
 "nbformat_minor": 5
}
