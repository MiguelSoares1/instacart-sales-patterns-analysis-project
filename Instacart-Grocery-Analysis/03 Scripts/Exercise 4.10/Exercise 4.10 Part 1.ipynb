{
 "cells": [
  {
   "cell_type": "code",
   "execution_count": 1,
   "id": "fd30b106-0618-4d46-b5da-ecb225f69cc9",
   "metadata": {},
   "outputs": [],
   "source": [
    "# Step 1 Import Libraries & Data"
   ]
  },
  {
   "cell_type": "code",
   "execution_count": 3,
   "id": "93330e8c-8fc7-426f-85b0-362c34cc160e",
   "metadata": {},
   "outputs": [],
   "source": [
    "import pandas as pd\n",
    "import numpy as np\n",
    "import os\n",
    "import matplotlib.pyplot as plt\n",
    "import seaborn as sns\n",
    "import scipy"
   ]
  },
  {
   "cell_type": "code",
   "execution_count": 5,
   "id": "0c1f7a6d-5aa7-4a3c-9f19-eb014285a47d",
   "metadata": {},
   "outputs": [],
   "source": [
    "path = r\"C:\\Users\\toloz\\Instacart Basket Analysis 9_11_2024\""
   ]
  },
  {
   "cell_type": "code",
   "execution_count": 7,
   "id": "a1287067-e449-4804-a03e-f721922cc0b8",
   "metadata": {},
   "outputs": [],
   "source": [
    "df_Fversion = pd.read_pickle(os.path.join(path, '02 Data', 'Prepared data', 'ords_prods_customers_merged.pkl'))"
   ]
  },
  {
   "cell_type": "markdown",
   "id": "ac191a21-aa48-48ad-9ca1-bfcb17e919cf",
   "metadata": {},
   "source": [
    " #  STEP 3.1 The Instacart officers are interested in comparing customer behavior in different geographic areas. Create a regional segmentation of the data. You’ll need to create a “Region” column based on the “State” column from your customers data set.\n",
    "Use the region information in this Wikipedia article to create your column (you only need to create regions, not divisions)."
   ]
  },
  {
   "cell_type": "code",
   "execution_count": 9,
   "id": "94a51400-9134-4ca7-9199-00b50adda93a",
   "metadata": {},
   "outputs": [],
   "source": [
    "# Create a list grouping states by US region"
   ]
  },
  {
   "cell_type": "code",
   "execution_count": 10,
   "id": "8dbf6417-5c63-4948-a026-d9f7f34af757",
   "metadata": {},
   "outputs": [
    {
     "data": {
      "text/html": [
       "<div>\n",
       "<style scoped>\n",
       "    .dataframe tbody tr th:only-of-type {\n",
       "        vertical-align: middle;\n",
       "    }\n",
       "\n",
       "    .dataframe tbody tr th {\n",
       "        vertical-align: top;\n",
       "    }\n",
       "\n",
       "    .dataframe thead th {\n",
       "        text-align: right;\n",
       "    }\n",
       "</style>\n",
       "<table border=\"1\" class=\"dataframe\">\n",
       "  <thead>\n",
       "    <tr style=\"text-align: right;\">\n",
       "      <th></th>\n",
       "      <th>order_id</th>\n",
       "      <th>user_id</th>\n",
       "      <th>order_number</th>\n",
       "      <th>order_dow</th>\n",
       "      <th>order_hour_of_day</th>\n",
       "      <th>days_since_prior_order</th>\n",
       "      <th>product_id</th>\n",
       "      <th>add_to_cart_order</th>\n",
       "      <th>reordered</th>\n",
       "      <th>_merge</th>\n",
       "      <th>...</th>\n",
       "      <th>first_name</th>\n",
       "      <th>surname</th>\n",
       "      <th>gender</th>\n",
       "      <th>state</th>\n",
       "      <th>age</th>\n",
       "      <th>date_joined</th>\n",
       "      <th>n_dependants</th>\n",
       "      <th>martial_status</th>\n",
       "      <th>income</th>\n",
       "      <th>Merge_</th>\n",
       "    </tr>\n",
       "  </thead>\n",
       "  <tbody>\n",
       "    <tr>\n",
       "      <th>0</th>\n",
       "      <td>2539329</td>\n",
       "      <td>1</td>\n",
       "      <td>1</td>\n",
       "      <td>2</td>\n",
       "      <td>8</td>\n",
       "      <td>7.0</td>\n",
       "      <td>196</td>\n",
       "      <td>1</td>\n",
       "      <td>0</td>\n",
       "      <td>both</td>\n",
       "      <td>...</td>\n",
       "      <td>Linda</td>\n",
       "      <td>Nguyen</td>\n",
       "      <td>Female</td>\n",
       "      <td>Alabama</td>\n",
       "      <td>31</td>\n",
       "      <td>2/17/2019</td>\n",
       "      <td>3</td>\n",
       "      <td>married</td>\n",
       "      <td>40423</td>\n",
       "      <td>both</td>\n",
       "    </tr>\n",
       "    <tr>\n",
       "      <th>1</th>\n",
       "      <td>2398795</td>\n",
       "      <td>1</td>\n",
       "      <td>2</td>\n",
       "      <td>3</td>\n",
       "      <td>7</td>\n",
       "      <td>15.0</td>\n",
       "      <td>196</td>\n",
       "      <td>1</td>\n",
       "      <td>1</td>\n",
       "      <td>both</td>\n",
       "      <td>...</td>\n",
       "      <td>Linda</td>\n",
       "      <td>Nguyen</td>\n",
       "      <td>Female</td>\n",
       "      <td>Alabama</td>\n",
       "      <td>31</td>\n",
       "      <td>2/17/2019</td>\n",
       "      <td>3</td>\n",
       "      <td>married</td>\n",
       "      <td>40423</td>\n",
       "      <td>both</td>\n",
       "    </tr>\n",
       "    <tr>\n",
       "      <th>2</th>\n",
       "      <td>473747</td>\n",
       "      <td>1</td>\n",
       "      <td>3</td>\n",
       "      <td>3</td>\n",
       "      <td>12</td>\n",
       "      <td>21.0</td>\n",
       "      <td>196</td>\n",
       "      <td>1</td>\n",
       "      <td>1</td>\n",
       "      <td>both</td>\n",
       "      <td>...</td>\n",
       "      <td>Linda</td>\n",
       "      <td>Nguyen</td>\n",
       "      <td>Female</td>\n",
       "      <td>Alabama</td>\n",
       "      <td>31</td>\n",
       "      <td>2/17/2019</td>\n",
       "      <td>3</td>\n",
       "      <td>married</td>\n",
       "      <td>40423</td>\n",
       "      <td>both</td>\n",
       "    </tr>\n",
       "  </tbody>\n",
       "</table>\n",
       "<p>3 rows × 35 columns</p>\n",
       "</div>"
      ],
      "text/plain": [
       "  order_id user_id  order_number  order_dow  order_hour_of_day  \\\n",
       "0  2539329       1             1          2                  8   \n",
       "1  2398795       1             2          3                  7   \n",
       "2   473747       1             3          3                 12   \n",
       "\n",
       "   days_since_prior_order  product_id  add_to_cart_order  reordered _merge  \\\n",
       "0                     7.0         196                  1          0   both   \n",
       "1                    15.0         196                  1          1   both   \n",
       "2                    21.0         196                  1          1   both   \n",
       "\n",
       "   ... first_name  surname  gender    state age date_joined n_dependants  \\\n",
       "0  ...      Linda   Nguyen  Female  Alabama  31   2/17/2019            3   \n",
       "1  ...      Linda   Nguyen  Female  Alabama  31   2/17/2019            3   \n",
       "2  ...      Linda   Nguyen  Female  Alabama  31   2/17/2019            3   \n",
       "\n",
       "  martial_status income  Merge_  \n",
       "0        married  40423    both  \n",
       "1        married  40423    both  \n",
       "2        married  40423    both  \n",
       "\n",
       "[3 rows x 35 columns]"
      ]
     },
     "execution_count": 10,
     "metadata": {},
     "output_type": "execute_result"
    }
   ],
   "source": [
    "df_Fversion.head(3)"
   ]
  },
  {
   "cell_type": "code",
   "execution_count": 14,
   "id": "84c2564a-bceb-4d5a-9694-8a68ce86ef20",
   "metadata": {},
   "outputs": [],
   "source": [
    "Regions = []\n",
    "\n",
    "for value in df_Fversion[\"state\"]:\n",
    "  if value in ['Maine', 'New Hampshire', 'Vermont', 'Massachusetts', 'Rhode Island', 'Connecticut', 'New York', 'Pennsylvania', 'New Jersey']:\n",
    "    Regions.append(\"Northeast\")\n",
    "  elif value in ['Wisconsin', 'Michigan', 'Illinois', 'Indiana', 'Ohio', 'North Dakota', 'South Dakota', 'Nebraska', 'Kansas', 'Minnesota', 'Iowa', 'Missouri']:\n",
    "    Regions.append(\"Midwest\")\n",
    "  elif value in ['Delaware', 'Maryland', 'District of Columbia', 'Virginia', 'West Virginia', 'North Carolina', 'South Carolina', 'Georgia', 'Florida' 'Kentucky', 'Tennessee', 'Mississippi', 'Alabama', 'Oklahoma', 'Texas', 'Arkansas', 'Louisiana']:\n",
    "    Regions.append(\"South\")\n",
    "  elif value in ['Idaho', 'Montana', 'Wyoming', 'Nevada', 'Utah', 'Colorado', 'Arizona', 'New Mexico', 'Alaska', 'Washington', 'Oregon', 'California', 'Hawaii']:\n",
    "    Regions.append(\"West\")\n",
    "  else:\n",
    "    Regions.append(\"No region assigned\")"
   ]
  },
  {
   "cell_type": "code",
   "execution_count": 16,
   "id": "fe5ac78e-0e9b-4083-885a-258ab90f5502",
   "metadata": {},
   "outputs": [],
   "source": [
    "df_Fversion['region'] = Regions "
   ]
  },
  {
   "cell_type": "markdown",
   "id": "9c87f7f5-2fb6-4927-b344-3b2ec2590a50",
   "metadata": {},
   "source": [
    "## Step 3.2 Determine whether there’s a difference in spending habits between the different U.S. regions. (Hint: You can do this by crossing the variable you just created with the spending flag.)"
   ]
  },
  {
   "cell_type": "code",
   "execution_count": 19,
   "id": "ac51aa70-c84f-4fca-b74e-d47fc5634b7e",
   "metadata": {},
   "outputs": [
    {
     "data": {
      "text/plain": [
       "order_id                    object\n",
       "user_id                     object\n",
       "order_number                 int64\n",
       "order_dow                    int64\n",
       "order_hour_of_day            int64\n",
       "days_since_prior_order     float64\n",
       "product_id                   int64\n",
       "add_to_cart_order            int64\n",
       "reordered                    int64\n",
       "_merge                    category\n",
       "product_name                object\n",
       "aisle_id                     int64\n",
       "department_id                int64\n",
       "prices                     float64\n",
       "merge_indicator           category\n",
       "price_range_loc             object\n",
       "busiest day                 object\n",
       "busiest days                object\n",
       "busiest_period_of_day       object\n",
       "max_order                    int64\n",
       "loyalty_flag                object\n",
       "average_spend              float64\n",
       "spender_flag                object\n",
       "Customer_frequency         float64\n",
       "frequency_flag              object\n",
       "first_name                  object\n",
       "surname                     object\n",
       "gender                      object\n",
       "state                       object\n",
       "age                          int64\n",
       "date_joined                 object\n",
       "n_dependants                 int64\n",
       "martial_status              object\n",
       "income                       int64\n",
       "Merge_                    category\n",
       "region                      object\n",
       "dtype: object"
      ]
     },
     "execution_count": 19,
     "metadata": {},
     "output_type": "execute_result"
    }
   ],
   "source": [
    "df_Fversion.dtypes"
   ]
  },
  {
   "cell_type": "code",
   "execution_count": 21,
   "id": "1dc137b9-d08b-454e-97ef-78712f9331be",
   "metadata": {},
   "outputs": [],
   "source": [
    "# Cross the spender_flag column with the region column\n",
    "crosstab = pd.crosstab(df_Fversion['region'], df_Fversion['spender_flag'], dropna = False)"
   ]
  },
  {
   "cell_type": "code",
   "execution_count": 22,
   "id": "b98c790a-8208-40a8-ba53-a4d521ab1f8b",
   "metadata": {},
   "outputs": [
    {
     "data": {
      "text/html": [
       "<div>\n",
       "<style scoped>\n",
       "    .dataframe tbody tr th:only-of-type {\n",
       "        vertical-align: middle;\n",
       "    }\n",
       "\n",
       "    .dataframe tbody tr th {\n",
       "        vertical-align: top;\n",
       "    }\n",
       "\n",
       "    .dataframe thead th {\n",
       "        text-align: right;\n",
       "    }\n",
       "</style>\n",
       "<table border=\"1\" class=\"dataframe\">\n",
       "  <thead>\n",
       "    <tr style=\"text-align: right;\">\n",
       "      <th>spender_flag</th>\n",
       "      <th>High_spender</th>\n",
       "      <th>Low_spender</th>\n",
       "    </tr>\n",
       "    <tr>\n",
       "      <th>region</th>\n",
       "      <th></th>\n",
       "      <th></th>\n",
       "    </tr>\n",
       "  </thead>\n",
       "  <tbody>\n",
       "    <tr>\n",
       "      <th>Midwest</th>\n",
       "      <td>155975</td>\n",
       "      <td>7441350</td>\n",
       "    </tr>\n",
       "    <tr>\n",
       "      <th>No region assigned</th>\n",
       "      <td>20098</td>\n",
       "      <td>1241419</td>\n",
       "    </tr>\n",
       "    <tr>\n",
       "      <th>Northeast</th>\n",
       "      <td>108225</td>\n",
       "      <td>5614511</td>\n",
       "    </tr>\n",
       "    <tr>\n",
       "      <th>South</th>\n",
       "      <td>189593</td>\n",
       "      <td>9340775</td>\n",
       "    </tr>\n",
       "    <tr>\n",
       "      <th>West</th>\n",
       "      <td>160354</td>\n",
       "      <td>8132559</td>\n",
       "    </tr>\n",
       "  </tbody>\n",
       "</table>\n",
       "</div>"
      ],
      "text/plain": [
       "spender_flag        High_spender  Low_spender\n",
       "region                                       \n",
       "Midwest                   155975      7441350\n",
       "No region assigned         20098      1241419\n",
       "Northeast                 108225      5614511\n",
       "South                     189593      9340775\n",
       "West                      160354      8132559"
      ]
     },
     "execution_count": 22,
     "metadata": {},
     "output_type": "execute_result"
    }
   ],
   "source": [
    "crosstab"
   ]
  },
  {
   "cell_type": "markdown",
   "id": "d6e689e1-7c86-4b1b-80d5-c7c5b5ab0625",
   "metadata": {},
   "source": [
    "###  There is more low_spenders then high_spenders"
   ]
  },
  {
   "cell_type": "markdown",
   "id": "961b263d-d27f-4ee4-b9f8-f952b975d979",
   "metadata": {},
   "source": [
    "# Step 4 The Instacart CFO isn’t interested in customers who don’t generate much revenue for the app. Create an exclusion flag for low-activity customers (customers with less than 5 orders) and exclude them from the data. Make sure you export this sample."
   ]
  },
  {
   "cell_type": "code",
   "execution_count": 27,
   "id": "14039de5-acb5-4c67-8878-5e9f64b858b4",
   "metadata": {},
   "outputs": [],
   "source": [
    "# Create a flag for customers with less than 5 orders\n",
    "df_Fversion.loc[df_Fversion['max_order'] < 5, 'activity_flag'] = 'low-activity customer'\n",
    "df_Fversion.loc[df_Fversion['max_order'] > 5, 'activity_flag'] = 'high-activity customer'"
   ]
  },
  {
   "cell_type": "code",
   "execution_count": 29,
   "id": "dc18653a-614d-4db2-8f7c-a224bb900202",
   "metadata": {},
   "outputs": [
    {
     "data": {
      "text/plain": [
       "activity_flag\n",
       "high-activity customer    30171424\n",
       "low-activity customer      1440295\n",
       "NaN                         793140\n",
       "Name: count, dtype: int64"
      ]
     },
     "execution_count": 29,
     "metadata": {},
     "output_type": "execute_result"
    }
   ],
   "source": [
    "# Check values for activity_flag\n",
    "df_Fversion['activity_flag'].value_counts(dropna = False)"
   ]
  },
  {
   "cell_type": "code",
   "execution_count": 31,
   "id": "e333bbfb-db80-4757-bd73-47a17eb05258",
   "metadata": {},
   "outputs": [],
   "source": [
    "# Exclude low-activity customers from the dataframe\n",
    "df_Fversion_exc = df_Fversion[df_Fversion['activity_flag'] != 'low-activity customer']"
   ]
  },
  {
   "cell_type": "code",
   "execution_count": 32,
   "id": "93f540f0-42be-489d-9280-f96187fb968f",
   "metadata": {},
   "outputs": [],
   "source": [
    "# Export the new dataframe\n",
    "df_Fversion_exc.to_pickle(os.path.join(path, '02 Data','Prepared Data', 'low_activity_excluded.pkl'))"
   ]
  },
  {
   "cell_type": "markdown",
   "id": "1bece384-61aa-4be4-8e99-54ada3ae2454",
   "metadata": {},
   "source": [
    "# Step 5 The marketing and business strategy units at Instacart want to create more-relevant marketing strategies for different products and are, thus, curious about customer profiling in their database. Create a profiling variable based on age, income, certain goods in the “department_id” column, and number of dependents. You might also use the “orders_day_of_week” and “order_hour_of_day” columns if you can think of a way they would impact customer profiles. (Hint: As an example, try thinking of what characteristics would lead you to the profile “Single adult” or “Young parent.”)"
   ]
  },
  {
   "cell_type": "code",
   "execution_count": 36,
   "id": "560ff8d8-8006-4348-ae0d-7e3ecf9f06a4",
   "metadata": {},
   "outputs": [
    {
     "name": "stderr",
     "output_type": "stream",
     "text": [
      "C:\\Users\\toloz\\AppData\\Local\\Temp\\ipykernel_23428\\3873888791.py:2: SettingWithCopyWarning: \n",
      "A value is trying to be set on a copy of a slice from a DataFrame.\n",
      "Try using .loc[row_indexer,col_indexer] = value instead\n",
      "\n",
      "See the caveats in the documentation: https://pandas.pydata.org/pandas-docs/stable/user_guide/indexing.html#returning-a-view-versus-a-copy\n",
      "  df_Fversion_exc.loc[df_Fversion_exc['age'] <= 25, 'age_group'] = 'young adult'\n"
     ]
    }
   ],
   "source": [
    "# Profile bassed on age\n",
    "df_Fversion_exc.loc[df_Fversion_exc['age'] <= 25, 'age_group'] = 'young adult'\n",
    "df_Fversion_exc.loc[(df_Fversion_exc['age'] > 25) & (df_Fversion_exc['age'] <= 44), 'age_group'] = 'adult'\n",
    "df_Fversion_exc.loc[(df_Fversion_exc['age'] > 44) & (df_Fversion_exc['age'] <= 64), 'age_group'] = 'middle-aged'\n",
    "df_Fversion_exc.loc[df_Fversion_exc['age'] > 64, 'age_group'] = 'senior'"
   ]
  },
  {
   "cell_type": "code",
   "execution_count": 38,
   "id": "26ea8b1f-97a8-4715-99ce-eeb1d4e1dd2f",
   "metadata": {},
   "outputs": [
    {
     "data": {
      "text/html": [
       "<div>\n",
       "<style scoped>\n",
       "    .dataframe tbody tr th:only-of-type {\n",
       "        vertical-align: middle;\n",
       "    }\n",
       "\n",
       "    .dataframe tbody tr th {\n",
       "        vertical-align: top;\n",
       "    }\n",
       "\n",
       "    .dataframe thead th {\n",
       "        text-align: right;\n",
       "    }\n",
       "</style>\n",
       "<table border=\"1\" class=\"dataframe\">\n",
       "  <thead>\n",
       "    <tr style=\"text-align: right;\">\n",
       "      <th></th>\n",
       "      <th>order_id</th>\n",
       "      <th>user_id</th>\n",
       "      <th>order_number</th>\n",
       "      <th>order_dow</th>\n",
       "      <th>order_hour_of_day</th>\n",
       "      <th>days_since_prior_order</th>\n",
       "      <th>product_id</th>\n",
       "      <th>add_to_cart_order</th>\n",
       "      <th>reordered</th>\n",
       "      <th>_merge</th>\n",
       "      <th>...</th>\n",
       "      <th>state</th>\n",
       "      <th>age</th>\n",
       "      <th>date_joined</th>\n",
       "      <th>n_dependants</th>\n",
       "      <th>martial_status</th>\n",
       "      <th>income</th>\n",
       "      <th>Merge_</th>\n",
       "      <th>region</th>\n",
       "      <th>activity_flag</th>\n",
       "      <th>age_group</th>\n",
       "    </tr>\n",
       "  </thead>\n",
       "  <tbody>\n",
       "    <tr>\n",
       "      <th>0</th>\n",
       "      <td>2539329</td>\n",
       "      <td>1</td>\n",
       "      <td>1</td>\n",
       "      <td>2</td>\n",
       "      <td>8</td>\n",
       "      <td>7.0</td>\n",
       "      <td>196</td>\n",
       "      <td>1</td>\n",
       "      <td>0</td>\n",
       "      <td>both</td>\n",
       "      <td>...</td>\n",
       "      <td>Alabama</td>\n",
       "      <td>31</td>\n",
       "      <td>2/17/2019</td>\n",
       "      <td>3</td>\n",
       "      <td>married</td>\n",
       "      <td>40423</td>\n",
       "      <td>both</td>\n",
       "      <td>South</td>\n",
       "      <td>high-activity customer</td>\n",
       "      <td>adult</td>\n",
       "    </tr>\n",
       "    <tr>\n",
       "      <th>1</th>\n",
       "      <td>2398795</td>\n",
       "      <td>1</td>\n",
       "      <td>2</td>\n",
       "      <td>3</td>\n",
       "      <td>7</td>\n",
       "      <td>15.0</td>\n",
       "      <td>196</td>\n",
       "      <td>1</td>\n",
       "      <td>1</td>\n",
       "      <td>both</td>\n",
       "      <td>...</td>\n",
       "      <td>Alabama</td>\n",
       "      <td>31</td>\n",
       "      <td>2/17/2019</td>\n",
       "      <td>3</td>\n",
       "      <td>married</td>\n",
       "      <td>40423</td>\n",
       "      <td>both</td>\n",
       "      <td>South</td>\n",
       "      <td>high-activity customer</td>\n",
       "      <td>adult</td>\n",
       "    </tr>\n",
       "    <tr>\n",
       "      <th>2</th>\n",
       "      <td>473747</td>\n",
       "      <td>1</td>\n",
       "      <td>3</td>\n",
       "      <td>3</td>\n",
       "      <td>12</td>\n",
       "      <td>21.0</td>\n",
       "      <td>196</td>\n",
       "      <td>1</td>\n",
       "      <td>1</td>\n",
       "      <td>both</td>\n",
       "      <td>...</td>\n",
       "      <td>Alabama</td>\n",
       "      <td>31</td>\n",
       "      <td>2/17/2019</td>\n",
       "      <td>3</td>\n",
       "      <td>married</td>\n",
       "      <td>40423</td>\n",
       "      <td>both</td>\n",
       "      <td>South</td>\n",
       "      <td>high-activity customer</td>\n",
       "      <td>adult</td>\n",
       "    </tr>\n",
       "  </tbody>\n",
       "</table>\n",
       "<p>3 rows × 38 columns</p>\n",
       "</div>"
      ],
      "text/plain": [
       "  order_id user_id  order_number  order_dow  order_hour_of_day  \\\n",
       "0  2539329       1             1          2                  8   \n",
       "1  2398795       1             2          3                  7   \n",
       "2   473747       1             3          3                 12   \n",
       "\n",
       "   days_since_prior_order  product_id  add_to_cart_order  reordered _merge  \\\n",
       "0                     7.0         196                  1          0   both   \n",
       "1                    15.0         196                  1          1   both   \n",
       "2                    21.0         196                  1          1   both   \n",
       "\n",
       "   ...    state  age  date_joined  n_dependants martial_status income Merge_  \\\n",
       "0  ...  Alabama   31    2/17/2019             3        married  40423   both   \n",
       "1  ...  Alabama   31    2/17/2019             3        married  40423   both   \n",
       "2  ...  Alabama   31    2/17/2019             3        married  40423   both   \n",
       "\n",
       "  region           activity_flag  age_group  \n",
       "0  South  high-activity customer      adult  \n",
       "1  South  high-activity customer      adult  \n",
       "2  South  high-activity customer      adult  \n",
       "\n",
       "[3 rows x 38 columns]"
      ]
     },
     "execution_count": 38,
     "metadata": {},
     "output_type": "execute_result"
    }
   ],
   "source": [
    "df_Fversion_exc.head(3)"
   ]
  },
  {
   "cell_type": "code",
   "execution_count": 40,
   "id": "f1e9d939-7e27-42ea-a001-e063474572e8",
   "metadata": {},
   "outputs": [
    {
     "data": {
      "text/plain": [
       "age_group\n",
       "middle-aged    9690051\n",
       "adult          9214451\n",
       "senior         8195544\n",
       "young adult    3864518\n",
       "Name: count, dtype: int64"
      ]
     },
     "execution_count": 40,
     "metadata": {},
     "output_type": "execute_result"
    }
   ],
   "source": [
    "# Check values  for each age group\n",
    "age_group_counts = df_Fversion_exc['age_group'].value_counts(dropna = False)\n",
    "age_group_counts"
   ]
  },
  {
   "cell_type": "markdown",
   "id": "5db23210-1875-49ec-95d0-6e2cbe3039bb",
   "metadata": {},
   "source": [
    "# Step 6 Create an appropriate visualization to show the distribution of profiles."
   ]
  },
  {
   "cell_type": "code",
   "execution_count": 43,
   "id": "9e9dd821-15b7-4ca0-b036-f64efb403a15",
   "metadata": {},
   "outputs": [],
   "source": [
    "age_group_counts = {\n",
    "    'middle-aged': 9690051,\n",
    "    'adult': 9214451,\n",
    "    'senior': 8195544,\n",
    "    'young adult': 3864518\n",
    "}"
   ]
  },
  {
   "cell_type": "code",
   "execution_count": 45,
   "id": "537aae1b-2329-42e3-93c9-53f000f2bf9f",
   "metadata": {},
   "outputs": [
    {
     "data": {
      "image/png": "[encoded data removed]",
      "text/plain": [
       "<Figure size 1000x600 with 1 Axes>"
      ]
     },
     "metadata": {},
     "output_type": "display_data"
    }
   ],
   "source": [
    "# Create the bar chart\n",
    "plt.figure(figsize=(10, 6))  # Set the size of the figure\n",
    "plt.bar(list(age_group_counts.keys()), list(age_group_counts.values()), color=['blue', 'orange', 'green', 'red'])\n",
    "\n",
    "# Add titles and labels\n",
    "plt.title('Counts of Age Groups')\n",
    "plt.xlabel('Age Group')\n",
    "plt.ylabel('Count')\n",
    "plt.xticks(rotation=45)  # Rotate x labels for better readability\n",
    "\n",
    "# Display the chart\n",
    "plt.savefig(os.path.join(path, '04 Analysis', 'Visualitations', 'age_group_distribution_barchart.png'))  # Save before plt.show()\n",
    "plt.show()"
   ]
  },
  {
   "cell_type": "code",
   "execution_count": 47,
   "id": "72ed5e38-3356-4519-bde7-26362c2c98f6",
   "metadata": {},
   "outputs": [],
   "source": [
    "# Profiling based on income "
   ]
  },
  {
   "cell_type": "code",
   "execution_count": 49,
   "id": "f76db773-82e4-47b2-8c88-4a92654acdc6",
   "metadata": {},
   "outputs": [
    {
     "name": "stderr",
     "output_type": "stream",
     "text": [
      "C:\\Users\\toloz\\AppData\\Local\\Temp\\ipykernel_23428\\504612469.py:2: SettingWithCopyWarning: \n",
      "A value is trying to be set on a copy of a slice from a DataFrame.\n",
      "Try using .loc[row_indexer,col_indexer] = value instead\n",
      "\n",
      "See the caveats in the documentation: https://pandas.pydata.org/pandas-docs/stable/user_guide/indexing.html#returning-a-view-versus-a-copy\n",
      "  df_Fversion_exc.loc[df_Fversion_exc['income'] <= 55000, 'income_group'] = 'low-income'\n"
     ]
    }
   ],
   "source": [
    "# Create an income group variable\n",
    "df_Fversion_exc.loc[df_Fversion_exc['income'] <= 55000, 'income_group'] = 'low-income'\n",
    "df_Fversion_exc.loc[(df_Fversion_exc['income'] > 55000) & (df_Fversion_exc['income'] <= 150000), 'income_group'] = 'middle-income'\n",
    "df_Fversion_exc.loc[df_Fversion_exc['income'] > 150000, 'income_group'] = 'high-income'"
   ]
  },
  {
   "cell_type": "code",
   "execution_count": 53,
   "id": "f2097324-19ed-4d41-aab8-03ad6ae36351",
   "metadata": {},
   "outputs": [
    {
     "data": {
      "text/plain": [
       "income_group\n",
       "middle-income    22617642\n",
       "low-income        4452388\n",
       "high-income       3894534\n",
       "Name: count, dtype: int64"
      ]
     },
     "execution_count": 53,
     "metadata": {},
     "output_type": "execute_result"
    }
   ],
   "source": [
    "# Check the counts of income groups\n",
    "df_Fversion_exc['income_group'].value_counts(dropna = False)"
   ]
  },
  {
   "cell_type": "code",
   "execution_count": 55,
   "id": "a45967cc-5abf-4138-ab48-44c9bbe392a2",
   "metadata": {},
   "outputs": [
    {
     "data": {
      "image/png": "[encoded data removed]",
      "text/plain": [
       "<Figure size 640x480 with 1 Axes>"
      ]
     },
     "metadata": {},
     "output_type": "display_data"
    }
   ],
   "source": [
    "income_group_counts = df_Fversion_exc['income_group'].value_counts(dropna=False)\n",
    "income_group_distribution_bar = income_group_counts.plot.bar()  \n",
    "plt.title('Distribution of Income Groups')\n",
    "plt.xlabel('')\n",
    "plt.ylabel('Count')\n",
    "plt.show()"
   ]
  },
  {
   "cell_type": "code",
   "execution_count": 59,
   "id": "2dede695-996e-4ad3-a590-277a173945ce",
   "metadata": {},
   "outputs": [],
   "source": [
    "income_group_distribution_bar.figure.savefig(os.path.join(path, '04 Analysis','Visualitations', 'income_distribution_bar.png'))"
   ]
  },
  {
   "cell_type": "code",
   "execution_count": 63,
   "id": "addfd7fc-0f29-4cfe-ab82-cdfa37142429",
   "metadata": {},
   "outputs": [
    {
     "name": "stderr",
     "output_type": "stream",
     "text": [
      "C:\\Users\\toloz\\AppData\\Local\\Temp\\ipykernel_23428\\3626151197.py:3: SettingWithCopyWarning: \n",
      "A value is trying to be set on a copy of a slice from a DataFrame.\n",
      "Try using .loc[row_indexer,col_indexer] = value instead\n",
      "\n",
      "See the caveats in the documentation: https://pandas.pydata.org/pandas-docs/stable/user_guide/indexing.html#returning-a-view-versus-a-copy\n",
      "  df_Fversion_exc.loc[df_Fversion_exc['n_dependants'] == 0, 'dependents_flag'] = 'no dependents'\n"
     ]
    }
   ],
   "source": [
    "# Profiling base on dependents\n",
    "# Create a dependents flag\n",
    "df_Fversion_exc.loc[df_Fversion_exc['n_dependants'] == 0, 'dependents_flag'] = 'no dependents'\n",
    "df_Fversion_exc.loc[df_Fversion_exc['n_dependants'] >= 1, 'dependents_flag'] = 'has dependents'"
   ]
  },
  {
   "cell_type": "code",
   "execution_count": 67,
   "id": "758eb16a-9a1e-44fa-899a-c5210a65406b",
   "metadata": {},
   "outputs": [
    {
     "data": {
      "text/plain": [
       "dependents_flag\n",
       "has dependents    23224883\n",
       "no dependents      7739681\n",
       "Name: count, dtype: int64"
      ]
     },
     "execution_count": 67,
     "metadata": {},
     "output_type": "execute_result"
    }
   ],
   "source": [
    "# Check value counts\n",
    "df_Fversion_exc['dependents_flag'].value_counts(dropna = False)"
   ]
  },
  {
   "cell_type": "code",
   "execution_count": 73,
   "id": "42117f75-8eb6-4582-9427-146ea95eef3e",
   "metadata": {},
   "outputs": [
    {
     "data": {
      "text/html": [
       "<div>\n",
       "<style scoped>\n",
       "    .dataframe tbody tr th:only-of-type {\n",
       "        vertical-align: middle;\n",
       "    }\n",
       "\n",
       "    .dataframe tbody tr th {\n",
       "        vertical-align: top;\n",
       "    }\n",
       "\n",
       "    .dataframe thead th {\n",
       "        text-align: right;\n",
       "    }\n",
       "</style>\n",
       "<table border=\"1\" class=\"dataframe\">\n",
       "  <thead>\n",
       "    <tr style=\"text-align: right;\">\n",
       "      <th>dependents_flag</th>\n",
       "      <th>has dependents</th>\n",
       "      <th>no dependents</th>\n",
       "    </tr>\n",
       "    <tr>\n",
       "      <th>martial_status</th>\n",
       "      <th></th>\n",
       "      <th></th>\n",
       "    </tr>\n",
       "  </thead>\n",
       "  <tbody>\n",
       "    <tr>\n",
       "      <th>divorced/widowed</th>\n",
       "      <td>0</td>\n",
       "      <td>2645271</td>\n",
       "    </tr>\n",
       "    <tr>\n",
       "      <th>living with parents and siblings</th>\n",
       "      <td>1481172</td>\n",
       "      <td>0</td>\n",
       "    </tr>\n",
       "    <tr>\n",
       "      <th>married</th>\n",
       "      <td>21743711</td>\n",
       "      <td>0</td>\n",
       "    </tr>\n",
       "    <tr>\n",
       "      <th>single</th>\n",
       "      <td>0</td>\n",
       "      <td>5094410</td>\n",
       "    </tr>\n",
       "  </tbody>\n",
       "</table>\n",
       "</div>"
      ],
      "text/plain": [
       "dependents_flag                   has dependents  no dependents\n",
       "martial_status                                                 \n",
       "divorced/widowed                               0        2645271\n",
       "living with parents and siblings         1481172              0\n",
       "married                                 21743711              0\n",
       "single                                         0        5094410"
      ]
     },
     "execution_count": 73,
     "metadata": {},
     "output_type": "execute_result"
    }
   ],
   "source": [
    "# Profiling based on marital status / dependents\n",
    "# Create a crosstab of marital_status and dependents_flag\n",
    "crosstab_2 = pd.crosstab(df_Fversion_exc['martial_status'], df_Fversion_exc['dependents_flag'], dropna = False)\n",
    "crosstab_2"
   ]
  },
  {
   "cell_type": "code",
   "execution_count": 75,
   "id": "c735dd1d-712b-4a9b-9544-798910dc1aba",
   "metadata": {},
   "outputs": [
    {
     "data": {
      "image/png": "[encoded data removed]",
      "text/plain": [
       "<Figure size 640x480 with 1 Axes>"
      ]
     },
     "metadata": {},
     "output_type": "display_data"
    }
   ],
   "source": [
    "# Create a bar chart showing the distribution of the crosstab\n",
    "marital_status_dependents_bar = crosstab_2.plot.bar()\n",
    "plt.title('Marital Status & Dependents')\n",
    "plt.xlabel('')\n",
    "plt.ylabel('Count')\n",
    "plt.show()"
   ]
  },
  {
   "cell_type": "code",
   "execution_count": 77,
   "id": "6de99767-c502-4d99-98cf-d269ec62ac04",
   "metadata": {},
   "outputs": [],
   "source": [
    "marital_status_dependents_bar.figure.savefig(os.path.join(path, '04 Analysis','Visualitations', 'marital_status_dependents_bar.png'))"
   ]
  },
  {
   "cell_type": "code",
   "execution_count": 83,
   "id": "8270d88d-7664-48ad-b73d-3f53855d0b42",
   "metadata": {},
   "outputs": [
    {
     "data": {
      "text/html": [
       "<div>\n",
       "<style scoped>\n",
       "    .dataframe tbody tr th:only-of-type {\n",
       "        vertical-align: middle;\n",
       "    }\n",
       "\n",
       "    .dataframe tbody tr th {\n",
       "        vertical-align: top;\n",
       "    }\n",
       "\n",
       "    .dataframe thead th {\n",
       "        text-align: right;\n",
       "    }\n",
       "</style>\n",
       "<table border=\"1\" class=\"dataframe\">\n",
       "  <thead>\n",
       "    <tr style=\"text-align: right;\">\n",
       "      <th>age_group</th>\n",
       "      <th>adult</th>\n",
       "      <th>middle-aged</th>\n",
       "      <th>senior</th>\n",
       "      <th>young adult</th>\n",
       "    </tr>\n",
       "    <tr>\n",
       "      <th>martial_status</th>\n",
       "      <th></th>\n",
       "      <th></th>\n",
       "      <th></th>\n",
       "      <th></th>\n",
       "    </tr>\n",
       "  </thead>\n",
       "  <tbody>\n",
       "    <tr>\n",
       "      <th>divorced/widowed</th>\n",
       "      <td>0</td>\n",
       "      <td>623313</td>\n",
       "      <td>2021958</td>\n",
       "      <td>0</td>\n",
       "    </tr>\n",
       "    <tr>\n",
       "      <th>living with parents and siblings</th>\n",
       "      <td>0</td>\n",
       "      <td>0</td>\n",
       "      <td>0</td>\n",
       "      <td>1481172</td>\n",
       "    </tr>\n",
       "    <tr>\n",
       "      <th>married</th>\n",
       "      <td>6901266</td>\n",
       "      <td>7238740</td>\n",
       "      <td>6173586</td>\n",
       "      <td>1430119</td>\n",
       "    </tr>\n",
       "    <tr>\n",
       "      <th>single</th>\n",
       "      <td>2313185</td>\n",
       "      <td>1827998</td>\n",
       "      <td>0</td>\n",
       "      <td>953227</td>\n",
       "    </tr>\n",
       "  </tbody>\n",
       "</table>\n",
       "</div>"
      ],
      "text/plain": [
       "age_group                           adult  middle-aged   senior  young adult\n",
       "martial_status                                                              \n",
       "divorced/widowed                        0       623313  2021958            0\n",
       "living with parents and siblings        0            0        0      1481172\n",
       "married                           6901266      7238740  6173586      1430119\n",
       "single                            2313185      1827998        0       953227"
      ]
     },
     "execution_count": 83,
     "metadata": {},
     "output_type": "execute_result"
    }
   ],
   "source": [
    "# Profile based on marital status / age group \n",
    "# Create a crosstab of marital_status and age_group\n",
    "crosstab_3 = pd.crosstab(df_Fversion_exc['martial_status'], df_Fversion_exc['age_group'], dropna = False)\n",
    "crosstab_3"
   ]
  },
  {
   "cell_type": "code",
   "execution_count": 85,
   "id": "5823ceb0-9a8d-4f94-ade1-4cd868a9c92a",
   "metadata": {},
   "outputs": [
    {
     "data": {
      "image/png": "[encoded data removed]",
      "text/plain": [
       "<Figure size 640x480 with 1 Axes>"
      ]
     },
     "metadata": {},
     "output_type": "display_data"
    }
   ],
   "source": [
    "# Create a bar chart\n",
    "marital_status_age_group_bar = crosstab_3.plot.bar()\n",
    "plt.title('Marital Status & Age Group')\n",
    "plt.xlabel('')\n",
    "plt.ylabel('Count')\n",
    "plt.show()"
   ]
  },
  {
   "cell_type": "code",
   "execution_count": 89,
   "id": "7b0385b2-7484-477f-9735-8d3426b9da99",
   "metadata": {},
   "outputs": [],
   "source": [
    "# Export the chart\n",
    "marital_status_age_group_bar.figure.savefig(os.path.join(path, '04 Analysis','Visualitations', 'marital_status_age_group_bar.png'))"
   ]
  },
  {
   "cell_type": "code",
   "execution_count": 100,
   "id": "be8163fd-decb-4d91-9189-8304a41fd743",
   "metadata": {},
   "outputs": [
    {
     "data": {
      "text/html": [
       "<div>\n",
       "<style scoped>\n",
       "    .dataframe tbody tr th:only-of-type {\n",
       "        vertical-align: middle;\n",
       "    }\n",
       "\n",
       "    .dataframe tbody tr th {\n",
       "        vertical-align: top;\n",
       "    }\n",
       "\n",
       "    .dataframe thead th {\n",
       "        text-align: right;\n",
       "    }\n",
       "</style>\n",
       "<table border=\"1\" class=\"dataframe\">\n",
       "  <thead>\n",
       "    <tr style=\"text-align: right;\">\n",
       "      <th>age_group</th>\n",
       "      <th>adult</th>\n",
       "      <th>middle-aged</th>\n",
       "      <th>senior</th>\n",
       "      <th>young adult</th>\n",
       "    </tr>\n",
       "    <tr>\n",
       "      <th>frequency_flag</th>\n",
       "      <th></th>\n",
       "      <th></th>\n",
       "      <th></th>\n",
       "      <th></th>\n",
       "    </tr>\n",
       "  </thead>\n",
       "  <tbody>\n",
       "    <tr>\n",
       "      <th>Frequent Customer</th>\n",
       "      <td>6596426</td>\n",
       "      <td>6932080</td>\n",
       "      <td>5894633</td>\n",
       "      <td>2783753</td>\n",
       "    </tr>\n",
       "    <tr>\n",
       "      <th>Non_frequent_customer</th>\n",
       "      <td>647128</td>\n",
       "      <td>694888</td>\n",
       "      <td>574400</td>\n",
       "      <td>271001</td>\n",
       "    </tr>\n",
       "    <tr>\n",
       "      <th>Regular customer</th>\n",
       "      <td>1970897</td>\n",
       "      <td>2063083</td>\n",
       "      <td>1726511</td>\n",
       "      <td>809764</td>\n",
       "    </tr>\n",
       "  </tbody>\n",
       "</table>\n",
       "</div>"
      ],
      "text/plain": [
       "age_group                adult  middle-aged   senior  young adult\n",
       "frequency_flag                                                   \n",
       "Frequent Customer      6596426      6932080  5894633      2783753\n",
       "Non_frequent_customer   647128       694888   574400       271001\n",
       "Regular customer       1970897      2063083  1726511       809764"
      ]
     },
     "execution_count": 100,
     "metadata": {},
     "output_type": "execute_result"
    }
   ],
   "source": [
    "# Cross order frequency with age group\n",
    "frequency_age_cross = pd.crosstab(df_Fversion_exc['frequency_flag'], df_Fversion_exc['age_group'], dropna = False)\n",
    "frequency_age_cross"
   ]
  },
  {
   "cell_type": "code",
   "execution_count": 102,
   "id": "e4a372ed-acf4-4b23-ba37-06fcf64936f5",
   "metadata": {},
   "outputs": [
    {
     "data": {
      "text/plain": [
       "(array([0, 1, 2]),\n",
       " [Text(0, 0, 'Frequent Customer'),\n",
       "  Text(1, 0, 'Non_frequent_customer'),\n",
       "  Text(2, 0, 'Regular customer')])"
      ]
     },
     "execution_count": 102,
     "metadata": {},
     "output_type": "execute_result"
    },
    {
     "data": {
      "image/png": "[encoded data removed]",
      "text/plain": [
       "<Figure size 640x480 with 1 Axes>"
      ]
     },
     "metadata": {},
     "output_type": "display_data"
    }
   ],
   "source": [
    "# Make a bar chart to more easily show results\n",
    "frequency_age_bar = frequency_age_cross.plot.bar()\n",
    "plt.title('Order Frequency by Age Group')\n",
    "plt.xlabel('')\n",
    "plt.ylabel('count')\n",
    "plt.xticks(rotation=0)"
   ]
  },
  {
   "cell_type": "code",
   "execution_count": 104,
   "id": "73370291-0e91-43d2-8d55-0c97f65de3ff",
   "metadata": {},
   "outputs": [],
   "source": [
    "# Export the chart\n",
    "frequency_age_bar.figure.savefig(os.path.join(path, '04 Analysis','Visualitations', 'frequency_age_group_bar.png'))"
   ]
  },
  {
   "cell_type": "markdown",
   "id": "fc4136d8-238f-482b-ac8e-f80fe6af3ad3",
   "metadata": {},
   "source": [
    "# STEP 7 Aggregate the max, mean, and min variables on a customer-profile level for usage frequency and expenditure."
   ]
  },
  {
   "cell_type": "code",
   "execution_count": 94,
   "id": "31a02304-414d-42a4-a89d-ecdbb74208e1",
   "metadata": {},
   "outputs": [
    {
     "data": {
      "text/plain": [
       "Index(['order_id', 'user_id', 'order_number', 'order_dow', 'order_hour_of_day',\n",
       "       'days_since_prior_order', 'product_id', 'add_to_cart_order',\n",
       "       'reordered', '_merge', 'product_name', 'aisle_id', 'department_id',\n",
       "       'prices', 'merge_indicator', 'price_range_loc', 'busiest day',\n",
       "       'busiest days', 'busiest_period_of_day', 'max_order', 'loyalty_flag',\n",
       "       'average_spend', 'spender_flag', 'Customer_frequency', 'frequency_flag',\n",
       "       'first_name', 'surname', 'gender', 'state', 'age', 'date_joined',\n",
       "       'n_dependants', 'martial_status', 'income', 'Merge_', 'region',\n",
       "       'activity_flag', 'age_group', 'income_group', 'dependents_flag'],\n",
       "      dtype='object')"
      ]
     },
     "execution_count": 94,
     "metadata": {},
     "output_type": "execute_result"
    }
   ],
   "source": [
    "df_Fversion_exc.columns"
   ]
  },
  {
   "cell_type": "code",
   "execution_count": 120,
   "id": "81ccbebd-f33f-49bf-94e5-554fa8e44eb1",
   "metadata": {},
   "outputs": [],
   "source": [
    "# Create a subset of customer profiles and show the total price of each order\n",
    "customer_profile = df_Fversion_exc.groupby(['user_id', 'gender', 'state', 'region', 'n_dependants', 'martial_status', 'age_group', 'order_number', 'order_dow', 'order_hour_of_day', 'loyalty_flag', 'frequency_flag', 'dependents_flag', 'income_group', 'spender_flag'])['prices'].sum().reset_index() "
   ]
  },
  {
   "cell_type": "code",
   "execution_count": 122,
   "id": "cb46c531-dcb5-41da-ad21-58ad445550e3",
   "metadata": {},
   "outputs": [
    {
     "data": {
      "text/html": [
       "<div>\n",
       "<style scoped>\n",
       "    .dataframe tbody tr th:only-of-type {\n",
       "        vertical-align: middle;\n",
       "    }\n",
       "\n",
       "    .dataframe tbody tr th {\n",
       "        vertical-align: top;\n",
       "    }\n",
       "\n",
       "    .dataframe thead th {\n",
       "        text-align: right;\n",
       "    }\n",
       "</style>\n",
       "<table border=\"1\" class=\"dataframe\">\n",
       "  <thead>\n",
       "    <tr style=\"text-align: right;\">\n",
       "      <th></th>\n",
       "      <th>user_id</th>\n",
       "      <th>gender</th>\n",
       "      <th>state</th>\n",
       "      <th>region</th>\n",
       "      <th>n_dependants</th>\n",
       "      <th>martial_status</th>\n",
       "      <th>age_group</th>\n",
       "      <th>order_number</th>\n",
       "      <th>order_dow</th>\n",
       "      <th>order_hour_of_day</th>\n",
       "      <th>loyalty_flag</th>\n",
       "      <th>frequency_flag</th>\n",
       "      <th>dependents_flag</th>\n",
       "      <th>income_group</th>\n",
       "      <th>spender_flag</th>\n",
       "      <th>prices</th>\n",
       "    </tr>\n",
       "  </thead>\n",
       "  <tbody>\n",
       "    <tr>\n",
       "      <th>0</th>\n",
       "      <td>1</td>\n",
       "      <td>Female</td>\n",
       "      <td>Alabama</td>\n",
       "      <td>South</td>\n",
       "      <td>3</td>\n",
       "      <td>married</td>\n",
       "      <td>adult</td>\n",
       "      <td>1</td>\n",
       "      <td>2</td>\n",
       "      <td>8</td>\n",
       "      <td>New customer</td>\n",
       "      <td>Regular customer</td>\n",
       "      <td>has dependents</td>\n",
       "      <td>low-income</td>\n",
       "      <td>Low_spender</td>\n",
       "      <td>31.6</td>\n",
       "    </tr>\n",
       "    <tr>\n",
       "      <th>1</th>\n",
       "      <td>1</td>\n",
       "      <td>Female</td>\n",
       "      <td>Alabama</td>\n",
       "      <td>South</td>\n",
       "      <td>3</td>\n",
       "      <td>married</td>\n",
       "      <td>adult</td>\n",
       "      <td>2</td>\n",
       "      <td>3</td>\n",
       "      <td>7</td>\n",
       "      <td>New customer</td>\n",
       "      <td>Regular customer</td>\n",
       "      <td>has dependents</td>\n",
       "      <td>low-income</td>\n",
       "      <td>Low_spender</td>\n",
       "      <td>35.4</td>\n",
       "    </tr>\n",
       "    <tr>\n",
       "      <th>2</th>\n",
       "      <td>1</td>\n",
       "      <td>Female</td>\n",
       "      <td>Alabama</td>\n",
       "      <td>South</td>\n",
       "      <td>3</td>\n",
       "      <td>married</td>\n",
       "      <td>adult</td>\n",
       "      <td>3</td>\n",
       "      <td>3</td>\n",
       "      <td>12</td>\n",
       "      <td>New customer</td>\n",
       "      <td>Regular customer</td>\n",
       "      <td>has dependents</td>\n",
       "      <td>low-income</td>\n",
       "      <td>Low_spender</td>\n",
       "      <td>28.2</td>\n",
       "    </tr>\n",
       "  </tbody>\n",
       "</table>\n",
       "</div>"
      ],
      "text/plain": [
       "  user_id  gender    state region  n_dependants martial_status age_group  \\\n",
       "0       1  Female  Alabama  South             3        married     adult   \n",
       "1       1  Female  Alabama  South             3        married     adult   \n",
       "2       1  Female  Alabama  South             3        married     adult   \n",
       "\n",
       "   order_number  order_dow  order_hour_of_day  loyalty_flag    frequency_flag  \\\n",
       "0             1          2                  8  New customer  Regular customer   \n",
       "1             2          3                  7  New customer  Regular customer   \n",
       "2             3          3                 12  New customer  Regular customer   \n",
       "\n",
       "  dependents_flag income_group spender_flag  prices  \n",
       "0  has dependents   low-income  Low_spender    31.6  \n",
       "1  has dependents   low-income  Low_spender    35.4  \n",
       "2  has dependents   low-income  Low_spender    28.2  "
      ]
     },
     "execution_count": 122,
     "metadata": {},
     "output_type": "execute_result"
    }
   ],
   "source": [
    "customer_profile.head(3)"
   ]
  },
  {
   "cell_type": "code",
   "execution_count": 126,
   "id": "42913451-92a9-4e3e-af7f-49fd79768f4f",
   "metadata": {},
   "outputs": [],
   "source": [
    "# Aggregate variables for customer profiles for expenditure\n",
    "customer_agg = customer_profile.groupby('user_id').agg({'order_number': ['max', 'min', 'mean'], \n",
    "                                                         'prices': ['max', 'min', 'mean']})"
   ]
  },
  {
   "cell_type": "code",
   "execution_count": 128,
   "id": "8fc8914e-5aec-4b56-abb5-97d6b09b20e2",
   "metadata": {},
   "outputs": [
    {
     "data": {
      "text/html": [
       "<div>\n",
       "<style scoped>\n",
       "    .dataframe tbody tr th:only-of-type {\n",
       "        vertical-align: middle;\n",
       "    }\n",
       "\n",
       "    .dataframe tbody tr th {\n",
       "        vertical-align: top;\n",
       "    }\n",
       "\n",
       "    .dataframe thead tr th {\n",
       "        text-align: left;\n",
       "    }\n",
       "\n",
       "    .dataframe thead tr:last-of-type th {\n",
       "        text-align: right;\n",
       "    }\n",
       "</style>\n",
       "<table border=\"1\" class=\"dataframe\">\n",
       "  <thead>\n",
       "    <tr>\n",
       "      <th></th>\n",
       "      <th colspan=\"3\" halign=\"left\">order_number</th>\n",
       "      <th colspan=\"3\" halign=\"left\">prices</th>\n",
       "    </tr>\n",
       "    <tr>\n",
       "      <th></th>\n",
       "      <th>max</th>\n",
       "      <th>min</th>\n",
       "      <th>mean</th>\n",
       "      <th>max</th>\n",
       "      <th>min</th>\n",
       "      <th>mean</th>\n",
       "    </tr>\n",
       "    <tr>\n",
       "      <th>user_id</th>\n",
       "      <th></th>\n",
       "      <th></th>\n",
       "      <th></th>\n",
       "      <th></th>\n",
       "      <th></th>\n",
       "      <th></th>\n",
       "    </tr>\n",
       "  </thead>\n",
       "  <tbody>\n",
       "    <tr>\n",
       "      <th>1</th>\n",
       "      <td>10</td>\n",
       "      <td>1</td>\n",
       "      <td>5.5</td>\n",
       "      <td>63.1</td>\n",
       "      <td>25.0</td>\n",
       "      <td>37.570000</td>\n",
       "    </tr>\n",
       "    <tr>\n",
       "      <th>10</th>\n",
       "      <td>5</td>\n",
       "      <td>1</td>\n",
       "      <td>3.0</td>\n",
       "      <td>429.6</td>\n",
       "      <td>39.1</td>\n",
       "      <td>247.420000</td>\n",
       "    </tr>\n",
       "    <tr>\n",
       "      <th>100</th>\n",
       "      <td>5</td>\n",
       "      <td>1</td>\n",
       "      <td>3.0</td>\n",
       "      <td>97.6</td>\n",
       "      <td>23.4</td>\n",
       "      <td>53.240000</td>\n",
       "    </tr>\n",
       "    <tr>\n",
       "      <th>1000</th>\n",
       "      <td>7</td>\n",
       "      <td>1</td>\n",
       "      <td>4.0</td>\n",
       "      <td>134.4</td>\n",
       "      <td>112.9</td>\n",
       "      <td>123.714286</td>\n",
       "    </tr>\n",
       "    <tr>\n",
       "      <th>10000</th>\n",
       "      <td>72</td>\n",
       "      <td>1</td>\n",
       "      <td>36.5</td>\n",
       "      <td>298.2</td>\n",
       "      <td>11.8</td>\n",
       "      <td>122.022222</td>\n",
       "    </tr>\n",
       "    <tr>\n",
       "      <th>...</th>\n",
       "      <td>...</td>\n",
       "      <td>...</td>\n",
       "      <td>...</td>\n",
       "      <td>...</td>\n",
       "      <td>...</td>\n",
       "      <td>...</td>\n",
       "    </tr>\n",
       "    <tr>\n",
       "      <th>99994</th>\n",
       "      <td>11</td>\n",
       "      <td>1</td>\n",
       "      <td>6.0</td>\n",
       "      <td>174.0</td>\n",
       "      <td>86.2</td>\n",
       "      <td>126.800000</td>\n",
       "    </tr>\n",
       "    <tr>\n",
       "      <th>99995</th>\n",
       "      <td>5</td>\n",
       "      <td>1</td>\n",
       "      <td>3.0</td>\n",
       "      <td>132.5</td>\n",
       "      <td>42.6</td>\n",
       "      <td>79.580000</td>\n",
       "    </tr>\n",
       "    <tr>\n",
       "      <th>99996</th>\n",
       "      <td>12</td>\n",
       "      <td>1</td>\n",
       "      <td>6.5</td>\n",
       "      <td>127.1</td>\n",
       "      <td>2.8</td>\n",
       "      <td>79.050000</td>\n",
       "    </tr>\n",
       "    <tr>\n",
       "      <th>99998</th>\n",
       "      <td>5</td>\n",
       "      <td>1</td>\n",
       "      <td>3.0</td>\n",
       "      <td>51.2</td>\n",
       "      <td>20.8</td>\n",
       "      <td>38.020000</td>\n",
       "    </tr>\n",
       "    <tr>\n",
       "      <th>99999</th>\n",
       "      <td>34</td>\n",
       "      <td>1</td>\n",
       "      <td>17.5</td>\n",
       "      <td>159.7</td>\n",
       "      <td>6.7</td>\n",
       "      <td>70.541176</td>\n",
       "    </tr>\n",
       "  </tbody>\n",
       "</table>\n",
       "<p>162631 rows × 6 columns</p>\n",
       "</div>"
      ],
      "text/plain": [
       "        order_number           prices                   \n",
       "                 max min  mean    max    min        mean\n",
       "user_id                                                 \n",
       "1                 10   1   5.5   63.1   25.0   37.570000\n",
       "10                 5   1   3.0  429.6   39.1  247.420000\n",
       "100                5   1   3.0   97.6   23.4   53.240000\n",
       "1000               7   1   4.0  134.4  112.9  123.714286\n",
       "10000             72   1  36.5  298.2   11.8  122.022222\n",
       "...              ...  ..   ...    ...    ...         ...\n",
       "99994             11   1   6.0  174.0   86.2  126.800000\n",
       "99995              5   1   3.0  132.5   42.6   79.580000\n",
       "99996             12   1   6.5  127.1    2.8   79.050000\n",
       "99998              5   1   3.0   51.2   20.8   38.020000\n",
       "99999             34   1  17.5  159.7    6.7   70.541176\n",
       "\n",
       "[162631 rows x 6 columns]"
      ]
     },
     "execution_count": 128,
     "metadata": {},
     "output_type": "execute_result"
    }
   ],
   "source": [
    "customer_agg"
   ]
  },
  {
   "cell_type": "code",
   "execution_count": 132,
   "id": "9a6ca3ef-1051-4046-b976-4e09e82e1658",
   "metadata": {},
   "outputs": [],
   "source": [
    "df_agg = df_Fversion_exc.groupby('user_id').agg({'order_number': ['max', 'min', 'mean'], 'days_since_prior_order': ['max', 'min', 'mean']})"
   ]
  },
  {
   "cell_type": "code",
   "execution_count": 134,
   "id": "7404dade-91ba-4f49-a2de-ea925a3eed63",
   "metadata": {},
   "outputs": [
    {
     "data": {
      "text/html": [
       "<div>\n",
       "<style scoped>\n",
       "    .dataframe tbody tr th:only-of-type {\n",
       "        vertical-align: middle;\n",
       "    }\n",
       "\n",
       "    .dataframe tbody tr th {\n",
       "        vertical-align: top;\n",
       "    }\n",
       "\n",
       "    .dataframe thead tr th {\n",
       "        text-align: left;\n",
       "    }\n",
       "\n",
       "    .dataframe thead tr:last-of-type th {\n",
       "        text-align: right;\n",
       "    }\n",
       "</style>\n",
       "<table border=\"1\" class=\"dataframe\">\n",
       "  <thead>\n",
       "    <tr>\n",
       "      <th></th>\n",
       "      <th colspan=\"3\" halign=\"left\">order_number</th>\n",
       "      <th colspan=\"3\" halign=\"left\">days_since_prior_order</th>\n",
       "    </tr>\n",
       "    <tr>\n",
       "      <th></th>\n",
       "      <th>max</th>\n",
       "      <th>min</th>\n",
       "      <th>mean</th>\n",
       "      <th>max</th>\n",
       "      <th>min</th>\n",
       "      <th>mean</th>\n",
       "    </tr>\n",
       "    <tr>\n",
       "      <th>user_id</th>\n",
       "      <th></th>\n",
       "      <th></th>\n",
       "      <th></th>\n",
       "      <th></th>\n",
       "      <th></th>\n",
       "      <th></th>\n",
       "    </tr>\n",
       "  </thead>\n",
       "  <tbody>\n",
       "    <tr>\n",
       "      <th>1</th>\n",
       "      <td>10</td>\n",
       "      <td>1</td>\n",
       "      <td>5.813559</td>\n",
       "      <td>30.0</td>\n",
       "      <td>0.0</td>\n",
       "      <td>19.135593</td>\n",
       "    </tr>\n",
       "    <tr>\n",
       "      <th>10</th>\n",
       "      <td>5</td>\n",
       "      <td>1</td>\n",
       "      <td>3.223776</td>\n",
       "      <td>30.0</td>\n",
       "      <td>7.0</td>\n",
       "      <td>20.265734</td>\n",
       "    </tr>\n",
       "    <tr>\n",
       "      <th>100</th>\n",
       "      <td>5</td>\n",
       "      <td>1</td>\n",
       "      <td>3.555556</td>\n",
       "      <td>30.0</td>\n",
       "      <td>7.0</td>\n",
       "      <td>24.888889</td>\n",
       "    </tr>\n",
       "    <tr>\n",
       "      <th>1000</th>\n",
       "      <td>7</td>\n",
       "      <td>1</td>\n",
       "      <td>3.980583</td>\n",
       "      <td>30.0</td>\n",
       "      <td>5.0</td>\n",
       "      <td>10.970874</td>\n",
       "    </tr>\n",
       "    <tr>\n",
       "      <th>10000</th>\n",
       "      <td>72</td>\n",
       "      <td>1</td>\n",
       "      <td>35.973443</td>\n",
       "      <td>17.0</td>\n",
       "      <td>0.0</td>\n",
       "      <td>4.989011</td>\n",
       "    </tr>\n",
       "    <tr>\n",
       "      <th>...</th>\n",
       "      <td>...</td>\n",
       "      <td>...</td>\n",
       "      <td>...</td>\n",
       "      <td>...</td>\n",
       "      <td>...</td>\n",
       "      <td>...</td>\n",
       "    </tr>\n",
       "    <tr>\n",
       "      <th>99994</th>\n",
       "      <td>11</td>\n",
       "      <td>1</td>\n",
       "      <td>6.042683</td>\n",
       "      <td>30.0</td>\n",
       "      <td>5.0</td>\n",
       "      <td>18.256098</td>\n",
       "    </tr>\n",
       "    <tr>\n",
       "      <th>99995</th>\n",
       "      <td>5</td>\n",
       "      <td>1</td>\n",
       "      <td>3.480000</td>\n",
       "      <td>30.0</td>\n",
       "      <td>6.0</td>\n",
       "      <td>15.360000</td>\n",
       "    </tr>\n",
       "    <tr>\n",
       "      <th>99996</th>\n",
       "      <td>12</td>\n",
       "      <td>1</td>\n",
       "      <td>5.898438</td>\n",
       "      <td>30.0</td>\n",
       "      <td>7.0</td>\n",
       "      <td>20.296875</td>\n",
       "    </tr>\n",
       "    <tr>\n",
       "      <th>99998</th>\n",
       "      <td>5</td>\n",
       "      <td>1</td>\n",
       "      <td>3.285714</td>\n",
       "      <td>12.0</td>\n",
       "      <td>7.0</td>\n",
       "      <td>8.666667</td>\n",
       "    </tr>\n",
       "    <tr>\n",
       "      <th>99999</th>\n",
       "      <td>34</td>\n",
       "      <td>1</td>\n",
       "      <td>16.565350</td>\n",
       "      <td>24.0</td>\n",
       "      <td>1.0</td>\n",
       "      <td>7.617021</td>\n",
       "    </tr>\n",
       "  </tbody>\n",
       "</table>\n",
       "<p>162631 rows × 6 columns</p>\n",
       "</div>"
      ],
      "text/plain": [
       "        order_number                days_since_prior_order                \n",
       "                 max min       mean                    max  min       mean\n",
       "user_id                                                                   \n",
       "1                 10   1   5.813559                   30.0  0.0  19.135593\n",
       "10                 5   1   3.223776                   30.0  7.0  20.265734\n",
       "100                5   1   3.555556                   30.0  7.0  24.888889\n",
       "1000               7   1   3.980583                   30.0  5.0  10.970874\n",
       "10000             72   1  35.973443                   17.0  0.0   4.989011\n",
       "...              ...  ..        ...                    ...  ...        ...\n",
       "99994             11   1   6.042683                   30.0  5.0  18.256098\n",
       "99995              5   1   3.480000                   30.0  6.0  15.360000\n",
       "99996             12   1   5.898438                   30.0  7.0  20.296875\n",
       "99998              5   1   3.285714                   12.0  7.0   8.666667\n",
       "99999             34   1  16.565350                   24.0  1.0   7.617021\n",
       "\n",
       "[162631 rows x 6 columns]"
      ]
     },
     "execution_count": 134,
     "metadata": {},
     "output_type": "execute_result"
    }
   ],
   "source": [
    "df_agg"
   ]
  },
  {
   "cell_type": "markdown",
   "id": "100c4be0-04a9-48e3-b91b-e064ca2f9733",
   "metadata": {},
   "source": [
    "# Compare your customer profiles with regions and departments. Can you identify a link between them? Customers may demonstrate different behaviors across regions, which could make this information important."
   ]
  },
  {
   "cell_type": "code",
   "execution_count": 139,
   "id": "8a886e14-1bb6-4a5d-a0f6-68b66f4ce444",
   "metadata": {},
   "outputs": [
    {
     "data": {
      "text/html": [
       "<div>\n",
       "<style scoped>\n",
       "    .dataframe tbody tr th:only-of-type {\n",
       "        vertical-align: middle;\n",
       "    }\n",
       "\n",
       "    .dataframe tbody tr th {\n",
       "        vertical-align: top;\n",
       "    }\n",
       "\n",
       "    .dataframe thead th {\n",
       "        text-align: right;\n",
       "    }\n",
       "</style>\n",
       "<table border=\"1\" class=\"dataframe\">\n",
       "  <thead>\n",
       "    <tr style=\"text-align: right;\">\n",
       "      <th>region</th>\n",
       "      <th>Midwest</th>\n",
       "      <th>No region assigned</th>\n",
       "      <th>Northeast</th>\n",
       "      <th>South</th>\n",
       "      <th>West</th>\n",
       "    </tr>\n",
       "    <tr>\n",
       "      <th>age_group</th>\n",
       "      <th></th>\n",
       "      <th></th>\n",
       "      <th></th>\n",
       "      <th></th>\n",
       "      <th></th>\n",
       "    </tr>\n",
       "  </thead>\n",
       "  <tbody>\n",
       "    <tr>\n",
       "      <th>adult</th>\n",
       "      <td>2172833</td>\n",
       "      <td>366263</td>\n",
       "      <td>1602358</td>\n",
       "      <td>2726460</td>\n",
       "      <td>2346537</td>\n",
       "    </tr>\n",
       "    <tr>\n",
       "      <th>middle-aged</th>\n",
       "      <td>2286479</td>\n",
       "      <td>372316</td>\n",
       "      <td>1697611</td>\n",
       "      <td>2822650</td>\n",
       "      <td>2510995</td>\n",
       "    </tr>\n",
       "    <tr>\n",
       "      <th>senior</th>\n",
       "      <td>1904046</td>\n",
       "      <td>316131</td>\n",
       "      <td>1484807</td>\n",
       "      <td>2392330</td>\n",
       "      <td>2098230</td>\n",
       "    </tr>\n",
       "    <tr>\n",
       "      <th>young adult</th>\n",
       "      <td>898155</td>\n",
       "      <td>150275</td>\n",
       "      <td>679909</td>\n",
       "      <td>1164714</td>\n",
       "      <td>971465</td>\n",
       "    </tr>\n",
       "  </tbody>\n",
       "</table>\n",
       "</div>"
      ],
      "text/plain": [
       "region       Midwest  No region assigned  Northeast    South     West\n",
       "age_group                                                            \n",
       "adult        2172833              366263    1602358  2726460  2346537\n",
       "middle-aged  2286479              372316    1697611  2822650  2510995\n",
       "senior       1904046              316131    1484807  2392330  2098230\n",
       "young adult   898155              150275     679909  1164714   971465"
      ]
     },
     "execution_count": 139,
     "metadata": {},
     "output_type": "execute_result"
    }
   ],
   "source": [
    "# Create a crosstab of age group and region\n",
    "age_region_cross = pd.crosstab(df_Fversion_exc['age_group'], df_Fversion_exc['region'], dropna = False)\n",
    "age_region_cross"
   ]
  },
  {
   "cell_type": "code",
   "execution_count": 141,
   "id": "b11d0900-f28b-491f-a588-84d052087c12",
   "metadata": {},
   "outputs": [
    {
     "data": {
      "text/plain": [
       "(array([0, 1, 2, 3]),\n",
       " [Text(0, 0, 'adult'),\n",
       "  Text(1, 0, 'middle-aged'),\n",
       "  Text(2, 0, 'senior'),\n",
       "  Text(3, 0, 'young adult')])"
      ]
     },
     "execution_count": 141,
     "metadata": {},
     "output_type": "execute_result"
    },
    {
     "data": {
      "image/png": "[encoded data removed]",
      "text/plain": [
       "<Figure size 640x480 with 1 Axes>"
      ]
     },
     "metadata": {},
     "output_type": "display_data"
    }
   ],
   "source": [
    "age_group_region_bar = age_region_cross.plot.bar()\n",
    "plt.title('Customer Counts (Age Groups by Region)')\n",
    "plt.ylabel('count')\n",
    "plt.xticks(rotation=0)"
   ]
  },
  {
   "cell_type": "code",
   "execution_count": 145,
   "id": "c06226a0-c33c-4b39-879c-eecf69e75943",
   "metadata": {},
   "outputs": [],
   "source": [
    "# Create a crosstab to show spending power by region\n",
    "income_region_cross = pd.crosstab(df_Fversion_exc['income_group'], df_Fversion_exc['region'], dropna = False)"
   ]
  },
  {
   "cell_type": "code",
   "execution_count": 147,
   "id": "63710a8b-3bf7-4a92-8aff-ba4d6e60a698",
   "metadata": {},
   "outputs": [
    {
     "data": {
      "text/html": [
       "<div>\n",
       "<style scoped>\n",
       "    .dataframe tbody tr th:only-of-type {\n",
       "        vertical-align: middle;\n",
       "    }\n",
       "\n",
       "    .dataframe tbody tr th {\n",
       "        vertical-align: top;\n",
       "    }\n",
       "\n",
       "    .dataframe thead th {\n",
       "        text-align: right;\n",
       "    }\n",
       "</style>\n",
       "<table border=\"1\" class=\"dataframe\">\n",
       "  <thead>\n",
       "    <tr style=\"text-align: right;\">\n",
       "      <th>region</th>\n",
       "      <th>Midwest</th>\n",
       "      <th>No region assigned</th>\n",
       "      <th>Northeast</th>\n",
       "      <th>South</th>\n",
       "      <th>West</th>\n",
       "    </tr>\n",
       "    <tr>\n",
       "      <th>income_group</th>\n",
       "      <th></th>\n",
       "      <th></th>\n",
       "      <th></th>\n",
       "      <th></th>\n",
       "      <th></th>\n",
       "    </tr>\n",
       "  </thead>\n",
       "  <tbody>\n",
       "    <tr>\n",
       "      <th>high-income</th>\n",
       "      <td>916961</td>\n",
       "      <td>141097</td>\n",
       "      <td>677680</td>\n",
       "      <td>1149206</td>\n",
       "      <td>1009590</td>\n",
       "    </tr>\n",
       "    <tr>\n",
       "      <th>low-income</th>\n",
       "      <td>1025408</td>\n",
       "      <td>174133</td>\n",
       "      <td>789479</td>\n",
       "      <td>1335050</td>\n",
       "      <td>1128318</td>\n",
       "    </tr>\n",
       "    <tr>\n",
       "      <th>middle-income</th>\n",
       "      <td>5319144</td>\n",
       "      <td>889755</td>\n",
       "      <td>3997526</td>\n",
       "      <td>6621898</td>\n",
       "      <td>5789319</td>\n",
       "    </tr>\n",
       "  </tbody>\n",
       "</table>\n",
       "</div>"
      ],
      "text/plain": [
       "region         Midwest  No region assigned  Northeast    South     West\n",
       "income_group                                                           \n",
       "high-income     916961              141097     677680  1149206  1009590\n",
       "low-income     1025408              174133     789479  1335050  1128318\n",
       "middle-income  5319144              889755    3997526  6621898  5789319"
      ]
     },
     "execution_count": 147,
     "metadata": {},
     "output_type": "execute_result"
    }
   ],
   "source": [
    "income_region_cross"
   ]
  },
  {
   "cell_type": "code",
   "execution_count": 149,
   "id": "01fd89f3-97f8-4af7-b84b-d25a1e341c6c",
   "metadata": {},
   "outputs": [
    {
     "data": {
      "text/plain": [
       "(array([0, 1, 2]),\n",
       " [Text(0, 0, 'high-income'),\n",
       "  Text(1, 0, 'low-income'),\n",
       "  Text(2, 0, 'middle-income')])"
      ]
     },
     "execution_count": 149,
     "metadata": {},
     "output_type": "execute_result"
    },
    {
     "data": {
      "image/png": "[encoded data removed]",
      "text/plain": [
       "<Figure size 640x480 with 1 Axes>"
      ]
     },
     "metadata": {},
     "output_type": "display_data"
    }
   ],
   "source": [
    "# Make a bar chart to more easily show results\n",
    "income_region_bar = income_region_cross.plot.bar()\n",
    "plt.title('Customer Counts (Income Groups by Region)')\n",
    "plt.ylabel('count')\n",
    "plt.xticks(rotation=0)"
   ]
  },
  {
   "cell_type": "code",
   "execution_count": 151,
   "id": "f4c180b9-359f-45b2-8bd3-f48d4930ad7e",
   "metadata": {},
   "outputs": [],
   "source": [
    "# Export bar charts\n",
    "age_group_region_bar.figure.savefig(os.path.join(path, '04 Analysis','Visualitations', 'age_group_region_bar.png'))\n",
    "income_region_bar.figure.savefig(os.path.join(path, '04 Analysis', 'Visualitations', 'income_region_bar.png'))"
   ]
  },
  {
   "cell_type": "code",
   "execution_count": 157,
   "id": "3d554893-9b07-4b4d-93e1-d08758e0aec6",
   "metadata": {},
   "outputs": [],
   "source": [
    "# Create a crosstab to show order frequency by region\n",
    "frequency_region_cross = pd.crosstab(df_Fversion_exc['frequency_flag'], df_Fversion_exc['region'], dropna = False)"
   ]
  },
  {
   "cell_type": "code",
   "execution_count": 159,
   "id": "087a5138-b9b7-4ca1-bbef-8f897ffc23ed",
   "metadata": {},
   "outputs": [
    {
     "data": {
      "text/html": [
       "<div>\n",
       "<style scoped>\n",
       "    .dataframe tbody tr th:only-of-type {\n",
       "        vertical-align: middle;\n",
       "    }\n",
       "\n",
       "    .dataframe tbody tr th {\n",
       "        vertical-align: top;\n",
       "    }\n",
       "\n",
       "    .dataframe thead th {\n",
       "        text-align: right;\n",
       "    }\n",
       "</style>\n",
       "<table border=\"1\" class=\"dataframe\">\n",
       "  <thead>\n",
       "    <tr style=\"text-align: right;\">\n",
       "      <th>region</th>\n",
       "      <th>Midwest</th>\n",
       "      <th>No region assigned</th>\n",
       "      <th>Northeast</th>\n",
       "      <th>South</th>\n",
       "      <th>West</th>\n",
       "    </tr>\n",
       "    <tr>\n",
       "      <th>frequency_flag</th>\n",
       "      <th></th>\n",
       "      <th></th>\n",
       "      <th></th>\n",
       "      <th></th>\n",
       "      <th></th>\n",
       "    </tr>\n",
       "  </thead>\n",
       "  <tbody>\n",
       "    <tr>\n",
       "      <th>Frequent Customer</th>\n",
       "      <td>5166347</td>\n",
       "      <td>867176</td>\n",
       "      <td>3919037</td>\n",
       "      <td>6540136</td>\n",
       "      <td>5714196</td>\n",
       "    </tr>\n",
       "    <tr>\n",
       "      <th>Non_frequent_customer</th>\n",
       "      <td>523619</td>\n",
       "      <td>84385</td>\n",
       "      <td>379091</td>\n",
       "      <td>647988</td>\n",
       "      <td>552334</td>\n",
       "    </tr>\n",
       "    <tr>\n",
       "      <th>Regular customer</th>\n",
       "      <td>1571547</td>\n",
       "      <td>253424</td>\n",
       "      <td>1166557</td>\n",
       "      <td>1918030</td>\n",
       "      <td>1660697</td>\n",
       "    </tr>\n",
       "  </tbody>\n",
       "</table>\n",
       "</div>"
      ],
      "text/plain": [
       "region                 Midwest  No region assigned  Northeast    South  \\\n",
       "frequency_flag                                                           \n",
       "Frequent Customer      5166347              867176    3919037  6540136   \n",
       "Non_frequent_customer   523619               84385     379091   647988   \n",
       "Regular customer       1571547              253424    1166557  1918030   \n",
       "\n",
       "region                    West  \n",
       "frequency_flag                  \n",
       "Frequent Customer      5714196  \n",
       "Non_frequent_customer   552334  \n",
       "Regular customer       1660697  "
      ]
     },
     "execution_count": 159,
     "metadata": {},
     "output_type": "execute_result"
    }
   ],
   "source": [
    "frequency_region_cross"
   ]
  },
  {
   "cell_type": "code",
   "execution_count": 161,
   "id": "1b275eb5-b4ed-4602-a1c2-f7411cb1f9d3",
   "metadata": {},
   "outputs": [
    {
     "data": {
      "text/plain": [
       "(array([0, 1, 2]),\n",
       " [Text(0, 0, 'Frequent Customer'),\n",
       "  Text(1, 0, 'Non_frequent_customer'),\n",
       "  Text(2, 0, 'Regular customer')])"
      ]
     },
     "execution_count": 161,
     "metadata": {},
     "output_type": "execute_result"
    },
    {
     "data": {
      "image/png": "[encoded data removed]",
      "text/plain": [
       "<Figure size 640x480 with 1 Axes>"
      ]
     },
     "metadata": {},
     "output_type": "display_data"
    }
   ],
   "source": [
    "# Make a bar chart to more easily show results\n",
    "frequency_region_bar = frequency_region_cross.plot.bar()\n",
    "plt.title('Order Frequency by Region')\n",
    "plt.xlabel('')\n",
    "plt.ylabel('count')\n",
    "plt.xticks(rotation=0)"
   ]
  },
  {
   "cell_type": "code",
   "execution_count": 163,
   "id": "5102199d-6ffc-474d-a335-574e563409c9",
   "metadata": {},
   "outputs": [],
   "source": [
    "# Export bar chart\n",
    "frequency_region_bar.figure.savefig(os.path.join(path, '04 Analysis','Visualitations', 'frequency_region_bar.png'))"
   ]
  },
  {
   "cell_type": "code",
   "execution_count": 167,
   "id": "f19f5405-26ba-49a6-929b-78ffbfff8228",
   "metadata": {},
   "outputs": [],
   "source": [
    "# Create a crosstab to show customer loyalty by region\n",
    "loyalty_region_cross = pd.crosstab(df_Fversion_exc['loyalty_flag'], df_Fversion_exc['region'], dropna = False)"
   ]
  },
  {
   "cell_type": "code",
   "execution_count": 169,
   "id": "2f392b4d-b2fe-431e-aafc-a732d72e8561",
   "metadata": {},
   "outputs": [
    {
     "data": {
      "text/html": [
       "<div>\n",
       "<style scoped>\n",
       "    .dataframe tbody tr th:only-of-type {\n",
       "        vertical-align: middle;\n",
       "    }\n",
       "\n",
       "    .dataframe tbody tr th {\n",
       "        vertical-align: top;\n",
       "    }\n",
       "\n",
       "    .dataframe thead th {\n",
       "        text-align: right;\n",
       "    }\n",
       "</style>\n",
       "<table border=\"1\" class=\"dataframe\">\n",
       "  <thead>\n",
       "    <tr style=\"text-align: right;\">\n",
       "      <th>region</th>\n",
       "      <th>Midwest</th>\n",
       "      <th>No region assigned</th>\n",
       "      <th>Northeast</th>\n",
       "      <th>South</th>\n",
       "      <th>West</th>\n",
       "    </tr>\n",
       "    <tr>\n",
       "      <th>loyalty_flag</th>\n",
       "      <th></th>\n",
       "      <th></th>\n",
       "      <th></th>\n",
       "      <th></th>\n",
       "      <th></th>\n",
       "    </tr>\n",
       "  </thead>\n",
       "  <tbody>\n",
       "    <tr>\n",
       "      <th>Loyal customer</th>\n",
       "      <td>2373774</td>\n",
       "      <td>383417</td>\n",
       "      <td>1841785</td>\n",
       "      <td>3022427</td>\n",
       "      <td>2662690</td>\n",
       "    </tr>\n",
       "    <tr>\n",
       "      <th>New customer</th>\n",
       "      <td>1136761</td>\n",
       "      <td>182986</td>\n",
       "      <td>842156</td>\n",
       "      <td>1410678</td>\n",
       "      <td>1231114</td>\n",
       "    </tr>\n",
       "    <tr>\n",
       "      <th>Regular customer</th>\n",
       "      <td>3750978</td>\n",
       "      <td>638582</td>\n",
       "      <td>2780744</td>\n",
       "      <td>4673049</td>\n",
       "      <td>4033423</td>\n",
       "    </tr>\n",
       "  </tbody>\n",
       "</table>\n",
       "</div>"
      ],
      "text/plain": [
       "region            Midwest  No region assigned  Northeast    South     West\n",
       "loyalty_flag                                                              \n",
       "Loyal customer    2373774              383417    1841785  3022427  2662690\n",
       "New customer      1136761              182986     842156  1410678  1231114\n",
       "Regular customer  3750978              638582    2780744  4673049  4033423"
      ]
     },
     "execution_count": 169,
     "metadata": {},
     "output_type": "execute_result"
    }
   ],
   "source": [
    "loyalty_region_cross"
   ]
  },
  {
   "cell_type": "code",
   "execution_count": 171,
   "id": "735cb142-5339-447c-9d47-8ae7223d76b0",
   "metadata": {},
   "outputs": [
    {
     "data": {
      "text/plain": [
       "(array([0, 1, 2]),\n",
       " [Text(0, 0, 'Loyal customer'),\n",
       "  Text(1, 0, 'New customer'),\n",
       "  Text(2, 0, 'Regular customer')])"
      ]
     },
     "execution_count": 171,
     "metadata": {},
     "output_type": "execute_result"
    },
    {
     "data": {
      "image/png": "[encoded data removed]",
      "text/plain": [
       "<Figure size 640x480 with 1 Axes>"
      ]
     },
     "metadata": {},
     "output_type": "display_data"
    }
   ],
   "source": [
    "# Make a bar chart to more easily show results\n",
    "loyalty_region_bar = loyalty_region_cross.plot.bar()\n",
    "plt.title('Customer Loyalty by Region')\n",
    "plt.xlabel('')\n",
    "plt.ylabel('count')\n",
    "plt.xticks(rotation=0)"
   ]
  },
  {
   "cell_type": "code",
   "execution_count": 173,
   "id": "ebbd2282-9ecc-4860-89dc-5cd8dd8ec09f",
   "metadata": {},
   "outputs": [],
   "source": [
    "# Export bar chart\n",
    "loyalty_region_bar.figure.savefig(os.path.join(path, '04 Analysis','Visualitations', 'loyalty_region_bar.png'))"
   ]
  },
  {
   "cell_type": "code",
   "execution_count": 177,
   "id": "aae94b99-82e2-41f6-898a-111fdeb54b1d",
   "metadata": {},
   "outputs": [
    {
     "data": {
      "text/html": [
       "<div>\n",
       "<style scoped>\n",
       "    .dataframe tbody tr th:only-of-type {\n",
       "        vertical-align: middle;\n",
       "    }\n",
       "\n",
       "    .dataframe tbody tr th {\n",
       "        vertical-align: top;\n",
       "    }\n",
       "\n",
       "    .dataframe thead th {\n",
       "        text-align: right;\n",
       "    }\n",
       "</style>\n",
       "<table border=\"1\" class=\"dataframe\">\n",
       "  <thead>\n",
       "    <tr style=\"text-align: right;\">\n",
       "      <th>region</th>\n",
       "      <th>Midwest</th>\n",
       "      <th>No region assigned</th>\n",
       "      <th>Northeast</th>\n",
       "      <th>South</th>\n",
       "      <th>West</th>\n",
       "    </tr>\n",
       "    <tr>\n",
       "      <th>spender_flag</th>\n",
       "      <th></th>\n",
       "      <th></th>\n",
       "      <th></th>\n",
       "      <th></th>\n",
       "      <th></th>\n",
       "    </tr>\n",
       "  </thead>\n",
       "  <tbody>\n",
       "    <tr>\n",
       "      <th>High_spender</th>\n",
       "      <td>148678</td>\n",
       "      <td>18855</td>\n",
       "      <td>103120</td>\n",
       "      <td>180484</td>\n",
       "      <td>152288</td>\n",
       "    </tr>\n",
       "    <tr>\n",
       "      <th>Low_spender</th>\n",
       "      <td>7112835</td>\n",
       "      <td>1186130</td>\n",
       "      <td>5361565</td>\n",
       "      <td>8925670</td>\n",
       "      <td>7774939</td>\n",
       "    </tr>\n",
       "  </tbody>\n",
       "</table>\n",
       "</div>"
      ],
      "text/plain": [
       "region        Midwest  No region assigned  Northeast    South     West\n",
       "spender_flag                                                          \n",
       "High_spender   148678               18855     103120   180484   152288\n",
       "Low_spender   7112835             1186130    5361565  8925670  7774939"
      ]
     },
     "execution_count": 177,
     "metadata": {},
     "output_type": "execute_result"
    }
   ],
   "source": [
    "# Create a crosstab of spending flag and region\n",
    "spender_region_cross = pd.crosstab(df_Fversion_exc['spender_flag'], df_Fversion_exc['region'], dropna = False)\n",
    "spender_region_cross"
   ]
  },
  {
   "cell_type": "code",
   "execution_count": 179,
   "id": "ee702233-ddcd-4953-bb8f-e94b9b94018d",
   "metadata": {},
   "outputs": [
    {
     "data": {
      "text/plain": [
       "(array([0, 1]), [Text(0, 0, 'High_spender'), Text(1, 0, 'Low_spender')])"
      ]
     },
     "execution_count": 179,
     "metadata": {},
     "output_type": "execute_result"
    },
    {
     "data": {
      "image/png": "[encoded data removed]",
      "text/plain": [
       "<Figure size 640x480 with 1 Axes>"
      ]
     },
     "metadata": {},
     "output_type": "display_data"
    }
   ],
   "source": [
    "# Make a bar chart to more easily show results\n",
    "spender_region_bar = spender_region_cross.plot.bar()\n",
    "plt.title('High/Low Spenders by Region')\n",
    "plt.xlabel('')\n",
    "plt.ylabel('count')\n",
    "plt.xticks(rotation=0)"
   ]
  },
  {
   "cell_type": "code",
   "execution_count": 181,
   "id": "124e81f4-a6cc-4d44-8033-31eac8333a9e",
   "metadata": {},
   "outputs": [],
   "source": [
    "# Export bar chart\n",
    "spender_region_bar.figure.savefig(os.path.join(path, '04 Analysis','Visualitations', 'spender_region_bar.png'))"
   ]
  },
  {
   "cell_type": "code",
   "execution_count": 183,
   "id": "be4cb781-f348-41c2-b5c3-ec5e1ff22b75",
   "metadata": {},
   "outputs": [],
   "source": [
    "# Import departments dataframe\n",
    "df_dept = pd.read_csv(os.path.join(path, '02 Data', 'Prepared Data', 'departments_wrangled.csv'))"
   ]
  },
  {
   "cell_type": "code",
   "execution_count": 185,
   "id": "088501e4-620c-433d-9f4d-bb959380d360",
   "metadata": {},
   "outputs": [
    {
     "data": {
      "text/html": [
       "<div>\n",
       "<style scoped>\n",
       "    .dataframe tbody tr th:only-of-type {\n",
       "        vertical-align: middle;\n",
       "    }\n",
       "\n",
       "    .dataframe tbody tr th {\n",
       "        vertical-align: top;\n",
       "    }\n",
       "\n",
       "    .dataframe thead th {\n",
       "        text-align: right;\n",
       "    }\n",
       "</style>\n",
       "<table border=\"1\" class=\"dataframe\">\n",
       "  <thead>\n",
       "    <tr style=\"text-align: right;\">\n",
       "      <th></th>\n",
       "      <th>Unnamed: 0</th>\n",
       "      <th>department</th>\n",
       "    </tr>\n",
       "  </thead>\n",
       "  <tbody>\n",
       "    <tr>\n",
       "      <th>0</th>\n",
       "      <td>1</td>\n",
       "      <td>frozen</td>\n",
       "    </tr>\n",
       "    <tr>\n",
       "      <th>1</th>\n",
       "      <td>2</td>\n",
       "      <td>other</td>\n",
       "    </tr>\n",
       "    <tr>\n",
       "      <th>2</th>\n",
       "      <td>3</td>\n",
       "      <td>bakery</td>\n",
       "    </tr>\n",
       "    <tr>\n",
       "      <th>3</th>\n",
       "      <td>4</td>\n",
       "      <td>produce</td>\n",
       "    </tr>\n",
       "    <tr>\n",
       "      <th>4</th>\n",
       "      <td>5</td>\n",
       "      <td>alcohol</td>\n",
       "    </tr>\n",
       "    <tr>\n",
       "      <th>5</th>\n",
       "      <td>6</td>\n",
       "      <td>international</td>\n",
       "    </tr>\n",
       "    <tr>\n",
       "      <th>6</th>\n",
       "      <td>7</td>\n",
       "      <td>beverages</td>\n",
       "    </tr>\n",
       "    <tr>\n",
       "      <th>7</th>\n",
       "      <td>8</td>\n",
       "      <td>pets</td>\n",
       "    </tr>\n",
       "    <tr>\n",
       "      <th>8</th>\n",
       "      <td>9</td>\n",
       "      <td>dry goods pasta</td>\n",
       "    </tr>\n",
       "    <tr>\n",
       "      <th>9</th>\n",
       "      <td>10</td>\n",
       "      <td>bulk</td>\n",
       "    </tr>\n",
       "    <tr>\n",
       "      <th>10</th>\n",
       "      <td>11</td>\n",
       "      <td>personal care</td>\n",
       "    </tr>\n",
       "    <tr>\n",
       "      <th>11</th>\n",
       "      <td>12</td>\n",
       "      <td>meat seafood</td>\n",
       "    </tr>\n",
       "    <tr>\n",
       "      <th>12</th>\n",
       "      <td>13</td>\n",
       "      <td>pantry</td>\n",
       "    </tr>\n",
       "    <tr>\n",
       "      <th>13</th>\n",
       "      <td>14</td>\n",
       "      <td>breakfast</td>\n",
       "    </tr>\n",
       "    <tr>\n",
       "      <th>14</th>\n",
       "      <td>15</td>\n",
       "      <td>canned goods</td>\n",
       "    </tr>\n",
       "    <tr>\n",
       "      <th>15</th>\n",
       "      <td>16</td>\n",
       "      <td>dairy eggs</td>\n",
       "    </tr>\n",
       "    <tr>\n",
       "      <th>16</th>\n",
       "      <td>17</td>\n",
       "      <td>household</td>\n",
       "    </tr>\n",
       "    <tr>\n",
       "      <th>17</th>\n",
       "      <td>18</td>\n",
       "      <td>babies</td>\n",
       "    </tr>\n",
       "    <tr>\n",
       "      <th>18</th>\n",
       "      <td>19</td>\n",
       "      <td>snacks</td>\n",
       "    </tr>\n",
       "    <tr>\n",
       "      <th>19</th>\n",
       "      <td>20</td>\n",
       "      <td>deli</td>\n",
       "    </tr>\n",
       "    <tr>\n",
       "      <th>20</th>\n",
       "      <td>21</td>\n",
       "      <td>missing</td>\n",
       "    </tr>\n",
       "  </tbody>\n",
       "</table>\n",
       "</div>"
      ],
      "text/plain": [
       "    Unnamed: 0       department\n",
       "0            1           frozen\n",
       "1            2            other\n",
       "2            3           bakery\n",
       "3            4          produce\n",
       "4            5          alcohol\n",
       "5            6    international\n",
       "6            7        beverages\n",
       "7            8             pets\n",
       "8            9  dry goods pasta\n",
       "9           10             bulk\n",
       "10          11    personal care\n",
       "11          12     meat seafood\n",
       "12          13           pantry\n",
       "13          14        breakfast\n",
       "14          15     canned goods\n",
       "15          16       dairy eggs\n",
       "16          17        household\n",
       "17          18           babies\n",
       "18          19           snacks\n",
       "19          20             deli\n",
       "20          21          missing"
      ]
     },
     "execution_count": 185,
     "metadata": {},
     "output_type": "execute_result"
    }
   ],
   "source": [
    "df_dept"
   ]
  },
  {
   "cell_type": "code",
   "execution_count": 187,
   "id": "303720c6-54c7-4340-9506-799db2404e82",
   "metadata": {},
   "outputs": [],
   "source": [
    "# Rename unnamed column\n",
    "df_dept.rename(columns = {'Unnamed: 0': 'department_id'}, inplace = True)"
   ]
  },
  {
   "cell_type": "code",
   "execution_count": 189,
   "id": "308cfff9-3aae-4c35-92f4-21ddf4e0a24c",
   "metadata": {},
   "outputs": [
    {
     "data": {
      "text/plain": [
       "order_id                    object\n",
       "user_id                     object\n",
       "order_number                 int64\n",
       "order_dow                    int64\n",
       "order_hour_of_day            int64\n",
       "days_since_prior_order     float64\n",
       "product_id                   int64\n",
       "add_to_cart_order            int64\n",
       "reordered                    int64\n",
       "_merge                    category\n",
       "product_name                object\n",
       "aisle_id                     int64\n",
       "department_id                int64\n",
       "prices                     float64\n",
       "merge_indicator           category\n",
       "price_range_loc             object\n",
       "busiest day                 object\n",
       "busiest days                object\n",
       "busiest_period_of_day       object\n",
       "max_order                    int64\n",
       "loyalty_flag                object\n",
       "average_spend              float64\n",
       "spender_flag                object\n",
       "Customer_frequency         float64\n",
       "frequency_flag              object\n",
       "first_name                  object\n",
       "surname                     object\n",
       "gender                      object\n",
       "state                       object\n",
       "age                          int64\n",
       "date_joined                 object\n",
       "n_dependants                 int64\n",
       "martial_status              object\n",
       "income                       int64\n",
       "Merge_                    category\n",
       "region                      object\n",
       "activity_flag               object\n",
       "age_group                   object\n",
       "income_group                object\n",
       "dependents_flag             object\n",
       "dtype: object"
      ]
     },
     "execution_count": 189,
     "metadata": {},
     "output_type": "execute_result"
    }
   ],
   "source": [
    "df_Fversion_exc.dtypes"
   ]
  },
  {
   "cell_type": "code",
   "execution_count": 191,
   "id": "31124b7f-1adb-4745-a6da-586a42a7023d",
   "metadata": {},
   "outputs": [
    {
     "data": {
      "text/plain": [
       "department_id     int64\n",
       "department       object\n",
       "dtype: object"
      ]
     },
     "execution_count": 191,
     "metadata": {},
     "output_type": "execute_result"
    }
   ],
   "source": [
    "df_dept.dtypes"
   ]
  },
  {
   "cell_type": "code",
   "execution_count": 195,
   "id": "26700fe3-6181-4c47-b2da-cd43a76e85ee",
   "metadata": {},
   "outputs": [],
   "source": [
    "df_final_merged = df_Fversion_exc.merge(df_dept, on='department_id', indicator=False)"
   ]
  },
  {
   "cell_type": "code",
   "execution_count": 197,
   "id": "0e0b9766-de60-45ac-a16b-b7715fa38db5",
   "metadata": {},
   "outputs": [
    {
     "data": {
      "text/plain": [
       "_merge\n",
       "both          30964564\n",
       "left_only            0\n",
       "right_only           0\n",
       "Name: count, dtype: int64"
      ]
     },
     "execution_count": 197,
     "metadata": {},
     "output_type": "execute_result"
    }
   ],
   "source": [
    "df_final_merged['_merge'].value_counts(dropna = False)"
   ]
  },
  {
   "cell_type": "code",
   "execution_count": 199,
   "id": "d4723c7a-57ee-4001-8139-10da035b07ad",
   "metadata": {},
   "outputs": [
    {
     "data": {
      "text/html": [
       "<div>\n",
       "<style scoped>\n",
       "    .dataframe tbody tr th:only-of-type {\n",
       "        vertical-align: middle;\n",
       "    }\n",
       "\n",
       "    .dataframe tbody tr th {\n",
       "        vertical-align: top;\n",
       "    }\n",
       "\n",
       "    .dataframe thead th {\n",
       "        text-align: right;\n",
       "    }\n",
       "</style>\n",
       "<table border=\"1\" class=\"dataframe\">\n",
       "  <thead>\n",
       "    <tr style=\"text-align: right;\">\n",
       "      <th></th>\n",
       "      <th>order_id</th>\n",
       "      <th>user_id</th>\n",
       "      <th>order_number</th>\n",
       "      <th>order_dow</th>\n",
       "      <th>order_hour_of_day</th>\n",
       "      <th>days_since_prior_order</th>\n",
       "      <th>product_id</th>\n",
       "      <th>add_to_cart_order</th>\n",
       "      <th>reordered</th>\n",
       "      <th>_merge</th>\n",
       "      <th>...</th>\n",
       "      <th>n_dependants</th>\n",
       "      <th>martial_status</th>\n",
       "      <th>income</th>\n",
       "      <th>Merge_</th>\n",
       "      <th>region</th>\n",
       "      <th>activity_flag</th>\n",
       "      <th>age_group</th>\n",
       "      <th>income_group</th>\n",
       "      <th>dependents_flag</th>\n",
       "      <th>department</th>\n",
       "    </tr>\n",
       "  </thead>\n",
       "  <tbody>\n",
       "    <tr>\n",
       "      <th>0</th>\n",
       "      <td>2539329</td>\n",
       "      <td>1</td>\n",
       "      <td>1</td>\n",
       "      <td>2</td>\n",
       "      <td>8</td>\n",
       "      <td>7.0</td>\n",
       "      <td>196</td>\n",
       "      <td>1</td>\n",
       "      <td>0</td>\n",
       "      <td>both</td>\n",
       "      <td>...</td>\n",
       "      <td>3</td>\n",
       "      <td>married</td>\n",
       "      <td>40423</td>\n",
       "      <td>both</td>\n",
       "      <td>South</td>\n",
       "      <td>high-activity customer</td>\n",
       "      <td>adult</td>\n",
       "      <td>low-income</td>\n",
       "      <td>has dependents</td>\n",
       "      <td>beverages</td>\n",
       "    </tr>\n",
       "    <tr>\n",
       "      <th>1</th>\n",
       "      <td>2398795</td>\n",
       "      <td>1</td>\n",
       "      <td>2</td>\n",
       "      <td>3</td>\n",
       "      <td>7</td>\n",
       "      <td>15.0</td>\n",
       "      <td>196</td>\n",
       "      <td>1</td>\n",
       "      <td>1</td>\n",
       "      <td>both</td>\n",
       "      <td>...</td>\n",
       "      <td>3</td>\n",
       "      <td>married</td>\n",
       "      <td>40423</td>\n",
       "      <td>both</td>\n",
       "      <td>South</td>\n",
       "      <td>high-activity customer</td>\n",
       "      <td>adult</td>\n",
       "      <td>low-income</td>\n",
       "      <td>has dependents</td>\n",
       "      <td>beverages</td>\n",
       "    </tr>\n",
       "  </tbody>\n",
       "</table>\n",
       "<p>2 rows × 41 columns</p>\n",
       "</div>"
      ],
      "text/plain": [
       "  order_id user_id  order_number  order_dow  order_hour_of_day  \\\n",
       "0  2539329       1             1          2                  8   \n",
       "1  2398795       1             2          3                  7   \n",
       "\n",
       "   days_since_prior_order  product_id  add_to_cart_order  reordered _merge  \\\n",
       "0                     7.0         196                  1          0   both   \n",
       "1                    15.0         196                  1          1   both   \n",
       "\n",
       "   ... n_dependants  martial_status  income  Merge_ region  \\\n",
       "0  ...            3         married   40423    both  South   \n",
       "1  ...            3         married   40423    both  South   \n",
       "\n",
       "            activity_flag age_group income_group dependents_flag  department  \n",
       "0  high-activity customer     adult   low-income  has dependents   beverages  \n",
       "1  high-activity customer     adult   low-income  has dependents   beverages  \n",
       "\n",
       "[2 rows x 41 columns]"
      ]
     },
     "execution_count": 199,
     "metadata": {},
     "output_type": "execute_result"
    }
   ],
   "source": [
    "# Dropping merge column\n",
    "df_final_merged.head(2)"
   ]
  },
  {
   "cell_type": "code",
   "execution_count": 201,
   "id": "85e7eab6-1efa-419f-8cd1-59140739650d",
   "metadata": {},
   "outputs": [],
   "source": [
    "# Exporting new dataframe with department merged \n",
    "df_final_merged.to_pickle(os.path.join(path,'02 Data','Prepared Data','orders_products_customers_departments.pkl'))"
   ]
  },
  {
   "cell_type": "code",
   "execution_count": 203,
   "id": "ff8fb3cc-71e4-43b9-bb98-3af6cd2ecd20",
   "metadata": {},
   "outputs": [
    {
     "data": {
      "image/png": "[encoded data removed]",
      "text/plain": [
       "<Figure size 640x480 with 1 Axes>"
      ]
     },
     "metadata": {},
     "output_type": "display_data"
    }
   ],
   "source": [
    "# Make a bar chart showing the frequency of orders for each department\n",
    "depts_bar = df_final_merged['department'].value_counts(ascending=True).plot(kind='barh', color='skyblue', xlabel = 'Count', title='Products Ordered by Department')"
   ]
  },
  {
   "cell_type": "code",
   "execution_count": 205,
   "id": "3e7503dd-25de-4142-b1f1-314d5923f9f9",
   "metadata": {},
   "outputs": [],
   "source": [
    "# Export bar chart\n",
    "depts_bar.figure.savefig(os.path.join(path, '04 Analysis','Visualitations', 'depts_bar.png'))"
   ]
  },
  {
   "cell_type": "code",
   "execution_count": 207,
   "id": "1680aa11-f083-4791-a010-b93abc3f4f75",
   "metadata": {},
   "outputs": [
    {
     "data": {
      "text/html": [
       "<div>\n",
       "<style scoped>\n",
       "    .dataframe tbody tr th:only-of-type {\n",
       "        vertical-align: middle;\n",
       "    }\n",
       "\n",
       "    .dataframe tbody tr th {\n",
       "        vertical-align: top;\n",
       "    }\n",
       "\n",
       "    .dataframe thead th {\n",
       "        text-align: right;\n",
       "    }\n",
       "</style>\n",
       "<table border=\"1\" class=\"dataframe\">\n",
       "  <thead>\n",
       "    <tr style=\"text-align: right;\">\n",
       "      <th>department</th>\n",
       "      <th>alcohol</th>\n",
       "      <th>babies</th>\n",
       "      <th>bakery</th>\n",
       "      <th>beverages</th>\n",
       "      <th>breakfast</th>\n",
       "      <th>bulk</th>\n",
       "      <th>canned goods</th>\n",
       "      <th>dairy eggs</th>\n",
       "      <th>deli</th>\n",
       "      <th>dry goods pasta</th>\n",
       "      <th>...</th>\n",
       "      <th>household</th>\n",
       "      <th>international</th>\n",
       "      <th>meat seafood</th>\n",
       "      <th>missing</th>\n",
       "      <th>other</th>\n",
       "      <th>pantry</th>\n",
       "      <th>personal care</th>\n",
       "      <th>pets</th>\n",
       "      <th>produce</th>\n",
       "      <th>snacks</th>\n",
       "    </tr>\n",
       "    <tr>\n",
       "      <th>age_group</th>\n",
       "      <th></th>\n",
       "      <th></th>\n",
       "      <th></th>\n",
       "      <th></th>\n",
       "      <th></th>\n",
       "      <th></th>\n",
       "      <th></th>\n",
       "      <th></th>\n",
       "      <th></th>\n",
       "      <th></th>\n",
       "      <th></th>\n",
       "      <th></th>\n",
       "      <th></th>\n",
       "      <th></th>\n",
       "      <th></th>\n",
       "      <th></th>\n",
       "      <th></th>\n",
       "      <th></th>\n",
       "      <th></th>\n",
       "      <th></th>\n",
       "      <th></th>\n",
       "    </tr>\n",
       "  </thead>\n",
       "  <tbody>\n",
       "    <tr>\n",
       "      <th>adult</th>\n",
       "      <td>42167</td>\n",
       "      <td>123044</td>\n",
       "      <td>334154</td>\n",
       "      <td>754851</td>\n",
       "      <td>198803</td>\n",
       "      <td>9902</td>\n",
       "      <td>302479</td>\n",
       "      <td>1549127</td>\n",
       "      <td>299970</td>\n",
       "      <td>243702</td>\n",
       "      <td>...</td>\n",
       "      <td>207553</td>\n",
       "      <td>76675</td>\n",
       "      <td>199124</td>\n",
       "      <td>19130</td>\n",
       "      <td>10198</td>\n",
       "      <td>529307</td>\n",
       "      <td>125522</td>\n",
       "      <td>27034</td>\n",
       "      <td>2712590</td>\n",
       "      <td>824677</td>\n",
       "    </tr>\n",
       "    <tr>\n",
       "      <th>middle-aged</th>\n",
       "      <td>46579</td>\n",
       "      <td>129910</td>\n",
       "      <td>350804</td>\n",
       "      <td>814687</td>\n",
       "      <td>211274</td>\n",
       "      <td>10298</td>\n",
       "      <td>315774</td>\n",
       "      <td>1612490</td>\n",
       "      <td>314110</td>\n",
       "      <td>256920</td>\n",
       "      <td>...</td>\n",
       "      <td>218860</td>\n",
       "      <td>79743</td>\n",
       "      <td>209927</td>\n",
       "      <td>20340</td>\n",
       "      <td>10811</td>\n",
       "      <td>558929</td>\n",
       "      <td>134736</td>\n",
       "      <td>28293</td>\n",
       "      <td>2830853</td>\n",
       "      <td>867564</td>\n",
       "    </tr>\n",
       "    <tr>\n",
       "      <th>senior</th>\n",
       "      <td>36693</td>\n",
       "      <td>106204</td>\n",
       "      <td>295997</td>\n",
       "      <td>684020</td>\n",
       "      <td>175296</td>\n",
       "      <td>8945</td>\n",
       "      <td>267509</td>\n",
       "      <td>1368072</td>\n",
       "      <td>265199</td>\n",
       "      <td>217316</td>\n",
       "      <td>...</td>\n",
       "      <td>186630</td>\n",
       "      <td>67199</td>\n",
       "      <td>181150</td>\n",
       "      <td>16915</td>\n",
       "      <td>8946</td>\n",
       "      <td>472383</td>\n",
       "      <td>111052</td>\n",
       "      <td>25115</td>\n",
       "      <td>2408104</td>\n",
       "      <td>728549</td>\n",
       "    </tr>\n",
       "    <tr>\n",
       "      <th>young adult</th>\n",
       "      <td>19188</td>\n",
       "      <td>51234</td>\n",
       "      <td>139873</td>\n",
       "      <td>318343</td>\n",
       "      <td>85477</td>\n",
       "      <td>4306</td>\n",
       "      <td>126312</td>\n",
       "      <td>647493</td>\n",
       "      <td>124555</td>\n",
       "      <td>104198</td>\n",
       "      <td>...</td>\n",
       "      <td>86814</td>\n",
       "      <td>32374</td>\n",
       "      <td>84580</td>\n",
       "      <td>8383</td>\n",
       "      <td>4456</td>\n",
       "      <td>222086</td>\n",
       "      <td>52996</td>\n",
       "      <td>12618</td>\n",
       "      <td>1127726</td>\n",
       "      <td>345616</td>\n",
       "    </tr>\n",
       "  </tbody>\n",
       "</table>\n",
       "<p>4 rows × 21 columns</p>\n",
       "</div>"
      ],
      "text/plain": [
       "department   alcohol  babies  bakery  beverages  breakfast   bulk  \\\n",
       "age_group                                                           \n",
       "adult          42167  123044  334154     754851     198803   9902   \n",
       "middle-aged    46579  129910  350804     814687     211274  10298   \n",
       "senior         36693  106204  295997     684020     175296   8945   \n",
       "young adult    19188   51234  139873     318343      85477   4306   \n",
       "\n",
       "department   canned goods  dairy eggs    deli  dry goods pasta  ...  \\\n",
       "age_group                                                       ...   \n",
       "adult              302479     1549127  299970           243702  ...   \n",
       "middle-aged        315774     1612490  314110           256920  ...   \n",
       "senior             267509     1368072  265199           217316  ...   \n",
       "young adult        126312      647493  124555           104198  ...   \n",
       "\n",
       "department   household  international  meat seafood  missing  other  pantry  \\\n",
       "age_group                                                                     \n",
       "adult           207553          76675        199124    19130  10198  529307   \n",
       "middle-aged     218860          79743        209927    20340  10811  558929   \n",
       "senior          186630          67199        181150    16915   8946  472383   \n",
       "young adult      86814          32374         84580     8383   4456  222086   \n",
       "\n",
       "department   personal care   pets  produce  snacks  \n",
       "age_group                                           \n",
       "adult               125522  27034  2712590  824677  \n",
       "middle-aged         134736  28293  2830853  867564  \n",
       "senior              111052  25115  2408104  728549  \n",
       "young adult          52996  12618  1127726  345616  \n",
       "\n",
       "[4 rows x 21 columns]"
      ]
     },
     "execution_count": 207,
     "metadata": {},
     "output_type": "execute_result"
    }
   ],
   "source": [
    "# Create a crosstab of age group and department\n",
    "age_dept_cross = pd.crosstab(df_final_merged['age_group'], df_final_merged['department'], dropna = False)\n",
    "age_dept_cross"
   ]
  },
  {
   "cell_type": "code",
   "execution_count": 209,
   "id": "f07beed1-46cf-4ac8-8043-c4555826d389",
   "metadata": {},
   "outputs": [
    {
     "data": {
      "text/plain": [
       "<matplotlib.legend.Legend at 0x1f8a94ce410>"
      ]
     },
     "execution_count": 209,
     "metadata": {},
     "output_type": "execute_result"
    },
    {
     "data": {
      "image/png": "[encoded data removed]",
      "text/plain": [
       "<Figure size 1400x1000 with 1 Axes>"
      ]
     },
     "metadata": {},
     "output_type": "display_data"
    }
   ],
   "source": [
    "# Make a bar chart to more easily show results\n",
    "age_dept_bar = age_dept_cross.plot(kind = 'barh', figsize=(14,10))\n",
    "plt.title('Department Sales by Age Group')\n",
    "plt.xlabel('products count')\n",
    "plt.ylabel('age group')\n",
    "# Move legend outside of plot\n",
    "plt.legend(title='Department', bbox_to_anchor=(1.05, 1), loc='upper left', fontsize=12, title_fontsize=14)"
   ]
  },
  {
   "cell_type": "code",
   "execution_count": 215,
   "id": "87ee03ae-f0bf-47f3-a5c6-717e03c15007",
   "metadata": {},
   "outputs": [],
   "source": [
    "# Export bar chart\n",
    "age_dept_bar.figure.savefig(os.path.join(path, '04 Analysis','Visualitations','age_depts_bar.png'))"
   ]
  },
  {
   "cell_type": "code",
   "execution_count": 217,
   "id": "9213045c-7a97-4160-8b34-de20caf7f0dd",
   "metadata": {},
   "outputs": [
    {
     "data": {
      "text/html": [
       "<div>\n",
       "<style scoped>\n",
       "    .dataframe tbody tr th:only-of-type {\n",
       "        vertical-align: middle;\n",
       "    }\n",
       "\n",
       "    .dataframe tbody tr th {\n",
       "        vertical-align: top;\n",
       "    }\n",
       "\n",
       "    .dataframe thead th {\n",
       "        text-align: right;\n",
       "    }\n",
       "</style>\n",
       "<table border=\"1\" class=\"dataframe\">\n",
       "  <thead>\n",
       "    <tr style=\"text-align: right;\">\n",
       "      <th>department</th>\n",
       "      <th>alcohol</th>\n",
       "      <th>babies</th>\n",
       "      <th>bakery</th>\n",
       "      <th>beverages</th>\n",
       "      <th>breakfast</th>\n",
       "      <th>bulk</th>\n",
       "      <th>canned goods</th>\n",
       "      <th>dairy eggs</th>\n",
       "      <th>deli</th>\n",
       "      <th>dry goods pasta</th>\n",
       "      <th>...</th>\n",
       "      <th>household</th>\n",
       "      <th>international</th>\n",
       "      <th>meat seafood</th>\n",
       "      <th>missing</th>\n",
       "      <th>other</th>\n",
       "      <th>pantry</th>\n",
       "      <th>personal care</th>\n",
       "      <th>pets</th>\n",
       "      <th>produce</th>\n",
       "      <th>snacks</th>\n",
       "    </tr>\n",
       "    <tr>\n",
       "      <th>income_group</th>\n",
       "      <th></th>\n",
       "      <th></th>\n",
       "      <th></th>\n",
       "      <th></th>\n",
       "      <th></th>\n",
       "      <th></th>\n",
       "      <th></th>\n",
       "      <th></th>\n",
       "      <th></th>\n",
       "      <th></th>\n",
       "      <th></th>\n",
       "      <th></th>\n",
       "      <th></th>\n",
       "      <th></th>\n",
       "      <th></th>\n",
       "      <th></th>\n",
       "      <th></th>\n",
       "      <th></th>\n",
       "      <th></th>\n",
       "      <th></th>\n",
       "      <th></th>\n",
       "    </tr>\n",
       "  </thead>\n",
       "  <tbody>\n",
       "    <tr>\n",
       "      <th>high-income</th>\n",
       "      <td>24067</td>\n",
       "      <td>53001</td>\n",
       "      <td>148430</td>\n",
       "      <td>313325</td>\n",
       "      <td>83418</td>\n",
       "      <td>3671</td>\n",
       "      <td>132389</td>\n",
       "      <td>659149</td>\n",
       "      <td>125886</td>\n",
       "      <td>106335</td>\n",
       "      <td>...</td>\n",
       "      <td>92674</td>\n",
       "      <td>32822</td>\n",
       "      <td>91514</td>\n",
       "      <td>8253</td>\n",
       "      <td>4554</td>\n",
       "      <td>231915</td>\n",
       "      <td>53530</td>\n",
       "      <td>12991</td>\n",
       "      <td>1134490</td>\n",
       "      <td>305779</td>\n",
       "    </tr>\n",
       "    <tr>\n",
       "      <th>low-income</th>\n",
       "      <td>22199</td>\n",
       "      <td>43438</td>\n",
       "      <td>144086</td>\n",
       "      <td>479742</td>\n",
       "      <td>116540</td>\n",
       "      <td>5974</td>\n",
       "      <td>112945</td>\n",
       "      <td>680816</td>\n",
       "      <td>141758</td>\n",
       "      <td>92401</td>\n",
       "      <td>...</td>\n",
       "      <td>111508</td>\n",
       "      <td>30240</td>\n",
       "      <td>54717</td>\n",
       "      <td>8902</td>\n",
       "      <td>4958</td>\n",
       "      <td>226221</td>\n",
       "      <td>62888</td>\n",
       "      <td>11782</td>\n",
       "      <td>1139552</td>\n",
       "      <td>673753</td>\n",
       "    </tr>\n",
       "    <tr>\n",
       "      <th>middle-income</th>\n",
       "      <td>98361</td>\n",
       "      <td>313953</td>\n",
       "      <td>828312</td>\n",
       "      <td>1778834</td>\n",
       "      <td>470892</td>\n",
       "      <td>23806</td>\n",
       "      <td>766740</td>\n",
       "      <td>3837217</td>\n",
       "      <td>736190</td>\n",
       "      <td>623400</td>\n",
       "      <td>...</td>\n",
       "      <td>495675</td>\n",
       "      <td>192929</td>\n",
       "      <td>528550</td>\n",
       "      <td>47613</td>\n",
       "      <td>24899</td>\n",
       "      <td>1324569</td>\n",
       "      <td>307888</td>\n",
       "      <td>68287</td>\n",
       "      <td>6805231</td>\n",
       "      <td>1786874</td>\n",
       "    </tr>\n",
       "  </tbody>\n",
       "</table>\n",
       "<p>3 rows × 21 columns</p>\n",
       "</div>"
      ],
      "text/plain": [
       "department     alcohol  babies  bakery  beverages  breakfast   bulk  \\\n",
       "income_group                                                          \n",
       "high-income      24067   53001  148430     313325      83418   3671   \n",
       "low-income       22199   43438  144086     479742     116540   5974   \n",
       "middle-income    98361  313953  828312    1778834     470892  23806   \n",
       "\n",
       "department     canned goods  dairy eggs    deli  dry goods pasta  ...  \\\n",
       "income_group                                                      ...   \n",
       "high-income          132389      659149  125886           106335  ...   \n",
       "low-income           112945      680816  141758            92401  ...   \n",
       "middle-income        766740     3837217  736190           623400  ...   \n",
       "\n",
       "department     household  international  meat seafood  missing  other  \\\n",
       "income_group                                                            \n",
       "high-income        92674          32822         91514     8253   4554   \n",
       "low-income        111508          30240         54717     8902   4958   \n",
       "middle-income     495675         192929        528550    47613  24899   \n",
       "\n",
       "department      pantry  personal care   pets  produce   snacks  \n",
       "income_group                                                    \n",
       "high-income     231915          53530  12991  1134490   305779  \n",
       "low-income      226221          62888  11782  1139552   673753  \n",
       "middle-income  1324569         307888  68287  6805231  1786874  \n",
       "\n",
       "[3 rows x 21 columns]"
      ]
     },
     "execution_count": 217,
     "metadata": {},
     "output_type": "execute_result"
    }
   ],
   "source": [
    "# Create a crosstab of income group and department\n",
    "income_dept_cross = pd.crosstab(df_final_merged['income_group'], df_final_merged['department'], dropna = False)\n",
    "income_dept_cross"
   ]
  },
  {
   "cell_type": "code",
   "execution_count": 219,
   "id": "844e574e-3d71-4912-be6e-1d5a470f1a8f",
   "metadata": {},
   "outputs": [
    {
     "data": {
      "text/plain": [
       "<matplotlib.legend.Legend at 0x1f8aae43d10>"
      ]
     },
     "execution_count": 219,
     "metadata": {},
     "output_type": "execute_result"
    },
    {
     "data": {
      "image/png": "[encoded data removed]",
      "text/plain": [
       "<Figure size 1400x1000 with 1 Axes>"
      ]
     },
     "metadata": {},
     "output_type": "display_data"
    }
   ],
   "source": [
    "# Make a bar chart to more easily show results\n",
    "income_dept_bar = income_dept_cross.plot(kind = 'barh', figsize=(14,10))\n",
    "plt.title('Department Sales by Income Group')\n",
    "plt.xlabel('products count')\n",
    "plt.ylabel('income group')\n",
    "# Move legend outside of plot\n",
    "plt.legend(title='Department', bbox_to_anchor=(1.05, 1), loc='upper left', fontsize=12, title_fontsize=14)"
   ]
  },
  {
   "cell_type": "code",
   "execution_count": 223,
   "id": "31b71428-6132-4629-a76d-a42a376b9093",
   "metadata": {},
   "outputs": [],
   "source": [
    "# Export bar chart\n",
    "income_dept_bar.figure.savefig(os.path.join(path, '04 Analysis','Visualitations', 'income_depts_bar.png'))"
   ]
  },
  {
   "cell_type": "markdown",
   "id": "bcd88e9f-55fc-4856-bd26-f2c0ce208572",
   "metadata": {},
   "source": [
    "# Produce suitable charts to illustrate your results and export them in your project folder."
   ]
  },
  {
   "cell_type": "code",
   "execution_count": 234,
   "id": "dea2843c-17e0-4ccf-be66-5f926d08b6d1",
   "metadata": {},
   "outputs": [
    {
     "data": {
      "text/plain": [
       "[Text(0, 0, 'Saturday'),\n",
       " Text(1, 0, 'Sunday'),\n",
       " Text(2, 0, 'Friday'),\n",
       " Text(3, 0, 'Monday'),\n",
       " Text(4, 0, 'Thursday'),\n",
       " Text(5, 0, 'Tuesday'),\n",
       " Text(6, 0, 'Wednesday')]"
      ]
     },
     "execution_count": 234,
     "metadata": {},
     "output_type": "execute_result"
    },
    {
     "data": {
      "image/png": "[encoded data removed]",
      "text/plain": [
       "<Figure size 640x480 with 1 Axes>"
      ]
     },
     "metadata": {},
     "output_type": "display_data"
    }
   ],
   "source": [
    "# Create a bar chart showing orders by day of week\n",
    "orders_dow_bar = df_Fversion['order_dow'].value_counts().plot.bar(color = 'skyblue')\n",
    "orders_dow_bar.set_title('Orders by Day of Week')\n",
    "orders_dow_bar.set_xticklabels(['Saturday', 'Sunday', 'Friday', 'Monday', 'Thursday', 'Tuesday', 'Wednesday'], rotation=0)"
   ]
  },
  {
   "cell_type": "code",
   "execution_count": 236,
   "id": "5362e3f1-87ae-420d-a813-44a24b170e86",
   "metadata": {},
   "outputs": [],
   "source": [
    "# Export bar chart\n",
    "orders_dow_bar.figure.savefig(os.path.join(path, '04 Analysis','Visualitations', 'orders_dow_bar.png'))"
   ]
  },
  {
   "cell_type": "code",
   "execution_count": 240,
   "id": "1a02c412-2320-4611-94f7-8bd61242d0bf",
   "metadata": {},
   "outputs": [
    {
     "data": {
      "text/plain": [
       "Text(0.5, 1.0, 'Orders by Hour of Day')"
      ]
     },
     "execution_count": 240,
     "metadata": {},
     "output_type": "execute_result"
    },
    {
     "data": {
      "image/png": "[encoded data removed]",
      "text/plain": [
       "<Figure size 640x480 with 1 Axes>"
      ]
     },
     "metadata": {},
     "output_type": "display_data"
    }
   ],
   "source": [
    "# Create a histogram for the order_hour_of_day column\n",
    "hist_hod = df_Fversion['order_hour_of_day'].plot.hist(bins = 24)\n",
    "hist_hod.set_title('Orders by Hour of Day')"
   ]
  },
  {
   "cell_type": "code",
   "execution_count": 244,
   "id": "e3d59826-5a68-4b11-a1f4-30506b24f1c7",
   "metadata": {},
   "outputs": [],
   "source": [
    "# Export histogram\n",
    "hist_hod.figure.savefig(os.path.join(path, '04 Analysis','Visualitations', 'hist_hour_of_day.png'))"
   ]
  },
  {
   "cell_type": "code",
   "execution_count": null,
   "id": "d49dfb75-7bb6-467d-8716-91eaebcc76c7",
   "metadata": {},
   "outputs": [],
   "source": []
  }
 ],
 "metadata": {
  "kernelspec": {
   "display_name": "Python 3 (ipykernel)",
   "language": "python",
   "name": "python3"
  },
  "language_info": {
   "codemirror_mode": {
    "name": "ipython",
    "version": 3
   },
   "file_extension": ".py",
   "mimetype": "text/x-python",
   "name": "python",
   "nbconvert_exporter": "python",
   "pygments_lexer": "ipython3",
   "version": "3.11.5"
  }
 },
 "nbformat": 4,
 "nbformat_minor": 5
}
