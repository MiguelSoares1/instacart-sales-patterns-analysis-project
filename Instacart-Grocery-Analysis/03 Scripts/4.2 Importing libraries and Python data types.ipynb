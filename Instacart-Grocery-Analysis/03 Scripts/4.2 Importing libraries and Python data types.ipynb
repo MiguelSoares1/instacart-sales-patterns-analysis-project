{
 "cells": [
  {
   "cell_type": "markdown",
   "id": "591f749c-76d8-4a0b-8b8b-69abec030797",
   "metadata": {},
   "source": [
    "# Importing librabries"
   ]
  },
  {
   "cell_type": "code",
   "execution_count": 3,
   "id": "6ed62878-9b43-4664-a283-bbb616aaf8f4",
   "metadata": {},
   "outputs": [],
   "source": [
    "# import labriries\n",
    "import pandas as pd\n",
    "import numpy as np\n",
    "import os"
   ]
  },
  {
   "cell_type": "code",
   "execution_count": 5,
   "id": "68320260-ac2a-474a-886c-6f5a1b897d5a",
   "metadata": {},
   "outputs": [],
   "source": [
    "a = 'sup'"
   ]
  },
  {
   "cell_type": "code",
   "execution_count": 17,
   "id": "cc9e2b96-8c23-4525-ab67-bb10858072ae",
   "metadata": {},
   "outputs": [],
   "source": [
    "b = 'Miguel'"
   ]
  },
  {
   "cell_type": "code",
   "execution_count": 15,
   "id": "57b15d1b-e196-42a7-8ce2-56d1bcaf3fae",
   "metadata": {},
   "outputs": [
    {
     "name": "stdout",
     "output_type": "stream",
     "text": [
      "supMiguel/\n"
     ]
    }
   ],
   "source": [
    "print(a+b)"
   ]
  },
  {
   "cell_type": "code",
   "execution_count": null,
   "id": "a797e570-b3da-49d7-ba44-ce65c94294f4",
   "metadata": {},
   "outputs": [],
   "source": []
  }
 ],
 "metadata": {
  "kernelspec": {
   "display_name": "Python 3 (ipykernel)",
   "language": "python",
   "name": "python3"
  },
  "language_info": {
   "codemirror_mode": {
    "name": "ipython",
    "version": 3
   },
   "file_extension": ".py",
   "mimetype": "text/x-python",
   "name": "python",
   "nbconvert_exporter": "python",
   "pygments_lexer": "ipython3",
   "version": "3.11.5"
  }
 },
 "nbformat": 4,
 "nbformat_minor": 5
}
