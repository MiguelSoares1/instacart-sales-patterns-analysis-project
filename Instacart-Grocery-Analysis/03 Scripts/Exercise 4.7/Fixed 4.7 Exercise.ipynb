{
 "cells": [
  {
   "cell_type": "code",
   "execution_count": 1,
   "id": "9e931665-f5c4-41b1-b7eb-a1c401692bc7",
   "metadata": {},
   "outputs": [],
   "source": [
    "import pandas as pd\n",
    "import numpy as np\n",
    "import os"
   ]
  },
  {
   "cell_type": "code",
   "execution_count": 3,
   "id": "8e821a24-238f-44c1-af8b-fb51661d73ac",
   "metadata": {},
   "outputs": [],
   "source": [
    "path = r\"C:\\Users\\toloz\\Instacart Basket Analysis 9_11_2024\""
   ]
  },
  {
   "cell_type": "code",
   "execution_count": 5,
   "id": "e22e113f-6da5-4bee-84ff-926f67ca3ae4",
   "metadata": {},
   "outputs": [],
   "source": [
    "df_orders_products_combined = pd.read_pickle(os.path.join(path, '02 Data', 'Prepared data', 'ords_prods_merge.pkl'))"
   ]
  },
  {
   "cell_type": "code",
   "execution_count": 7,
   "id": "2254b947-ef81-4bb6-a557-d6ba6216fd38",
   "metadata": {},
   "outputs": [
    {
     "data": {
      "text/plain": [
       "(32404859, 15)"
      ]
     },
     "execution_count": 7,
     "metadata": {},
     "output_type": "execute_result"
    }
   ],
   "source": [
    "df_orders_products_combined.shape"
   ]
  },
  {
   "cell_type": "code",
   "execution_count": 9,
   "id": "2987b853-e792-4082-a236-9b01236784eb",
   "metadata": {},
   "outputs": [],
   "source": [
    "df = df_orders_products_combined[:1000000]"
   ]
  },
  {
   "cell_type": "code",
   "execution_count": 11,
   "id": "c46be7e9-51c9-4cc9-9b9b-214d0c266243",
   "metadata": {},
   "outputs": [],
   "source": [
    "def price_label(row):\n",
    "\n",
    "  if row['prices'] <= 5:\n",
    "    return 'Low-range product'\n",
    "  elif (row['prices'] > 5) and (row['prices'] <= 15):\n",
    "    return 'Mid-range product'\n",
    "  elif row['prices'] > 15:\n",
    "    return 'High range'\n",
    "  else: return 'Not enough data'"
   ]
  },
  {
   "cell_type": "code",
   "execution_count": 19,
   "id": "c6c7a9ac-4a9b-441b-9809-dc64e9df47d0",
   "metadata": {},
   "outputs": [],
   "source": [
    "df.loc['price_range'] = df_orders_products_combined.apply(price_label, axis=1)"
   ]
  },
  {
   "cell_type": "code",
   "execution_count": 21,
   "id": "3d61365d-9582-4be6-9268-5c7166ab4ca7",
   "metadata": {},
   "outputs": [
    {
     "data": {
      "text/plain": [
       "14.8"
      ]
     },
     "execution_count": 21,
     "metadata": {},
     "output_type": "execute_result"
    }
   ],
   "source": [
    "df['prices'].max()"
   ]
  },
  {
   "cell_type": "code",
   "execution_count": null,
   "id": "f13d27bc-dcbc-4707-91be-cc0f84b52378",
   "metadata": {},
   "outputs": [],
   "source": []
  }
 ],
 "metadata": {
  "kernelspec": {
   "display_name": "Python 3 (ipykernel)",
   "language": "python",
   "name": "python3"
  },
  "language_info": {
   "codemirror_mode": {
    "name": "ipython",
    "version": 3
   },
   "file_extension": ".py",
   "mimetype": "text/x-python",
   "name": "python",
   "nbconvert_exporter": "python",
   "pygments_lexer": "ipython3",
   "version": "3.11.5"
  }
 },
 "nbformat": 4,
 "nbformat_minor": 5
}
